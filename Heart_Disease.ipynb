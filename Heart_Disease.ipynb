{
  "nbformat": 4,
  "nbformat_minor": 0,
  "metadata": {
    "colab": {
      "name": "Heart Disease.ipynb",
      "provenance": [],
      "collapsed_sections": [],
      "include_colab_link": true
    },
    "kernelspec": {
      "name": "python3",
      "display_name": "Python 3"
    },
    "language_info": {
      "name": "python"
    }
  },
  "cells": [
    {
      "cell_type": "markdown",
      "metadata": {
        "id": "view-in-github",
        "colab_type": "text"
      },
      "source": [
        "<a href=\"https://colab.research.google.com/github/AlejoGalloM/MachineLearning/blob/master/Heart_Disease.ipynb\" target=\"_parent\"><img src=\"https://colab.research.google.com/assets/colab-badge.svg\" alt=\"Open In Colab\"/></a>"
      ]
    },
    {
      "cell_type": "markdown",
      "metadata": {
        "id": "EteAOpq-wMaP"
      },
      "source": [
        "## ***Heart Disease Data***\n",
        "\n",
        "***Proceso de verificacion del articulo cientifico de comparacion de metodos de machine learnng elegido para el parcial***\n",
        "\n"
      ]
    },
    {
      "cell_type": "code",
      "metadata": {
        "colab": {
          "base_uri": "https://localhost:8080/"
        },
        "id": "eOgHm65UE05w",
        "outputId": "000508e1-1d06-47d8-bf82-765d2d786dc2"
      },
      "source": [
        "from google.colab import drive\n",
        "drive.mount('/content/drive')"
      ],
      "execution_count": 184,
      "outputs": [
        {
          "output_type": "stream",
          "name": "stdout",
          "text": [
            "Drive already mounted at /content/drive; to attempt to forcibly remount, call drive.mount(\"/content/drive\", force_remount=True).\n"
          ]
        }
      ]
    },
    {
      "cell_type": "code",
      "metadata": {
        "id": "wzK9Gl27tdq7"
      },
      "source": [
        "#Importaciones utilizadas\n",
        "import pandas as pd                                   #Librería para la lectura y manejo de datos\n",
        "import numpy as np                                    #Librería para la computación de datos numéricos\n",
        "import matplotlib.pyplot as plt                       #Librería usada para graficar datos\n",
        "from matplotlib.ticker import PercentFormatter        #Librería usada para formatear números como porcentajes\n",
        "\n",
        "#Librerías para machine learning\n",
        "from sklearn.model_selection import train_test_split, GridSearchCV\n",
        "from sklearn.preprocessing import StandardScaler\n",
        "from sklearn.tree import DecisionTreeClassifier\n",
        "from sklearn.svm import SVC                                     \n",
        "from sklearn.metrics import classification_report, confusion_matrix, plot_confusion_matrix, roc_curve, roc_auc_score\n",
        "from sklearn.naive_bayes import GaussianNB\n"
      ],
      "execution_count": 185,
      "outputs": []
    },
    {
      "cell_type": "code",
      "metadata": {
        "id": "NClNkMiuzjgx"
      },
      "source": [
        "#Se leen los datos de la base y se agregan sus etiquitas correspondientes para cada columna\n",
        "col_names = [\"age\",\"sex\",\"cp\",\"trestbps\",\"chol\",\"fbs\",\"restecg\",\"thalach\",\"exang\",\"oldpeak\",\"slope\",\"ca\",\"thal\",\"diagnos\"]\n",
        "\n",
        "path = 'drive/MyDrive/data/heart.csv'\n",
        "heart = pd.read_csv(path)\n",
        "heart = heart.set_axis(col_names, axis = 1)"
      ],
      "execution_count": 186,
      "outputs": []
    },
    {
      "cell_type": "code",
      "metadata": {
        "colab": {
          "base_uri": "https://localhost:8080/",
          "height": 359
        },
        "id": "jM_DkKY99nVG",
        "outputId": "38880d45-2ed7-43f6-ad2f-b62ba7e2e46d"
      },
      "source": [
        "heart.head(10)"
      ],
      "execution_count": 187,
      "outputs": [
        {
          "output_type": "execute_result",
          "data": {
            "text/html": [
              "<div>\n",
              "<style scoped>\n",
              "    .dataframe tbody tr th:only-of-type {\n",
              "        vertical-align: middle;\n",
              "    }\n",
              "\n",
              "    .dataframe tbody tr th {\n",
              "        vertical-align: top;\n",
              "    }\n",
              "\n",
              "    .dataframe thead th {\n",
              "        text-align: right;\n",
              "    }\n",
              "</style>\n",
              "<table border=\"1\" class=\"dataframe\">\n",
              "  <thead>\n",
              "    <tr style=\"text-align: right;\">\n",
              "      <th></th>\n",
              "      <th>age</th>\n",
              "      <th>sex</th>\n",
              "      <th>cp</th>\n",
              "      <th>trestbps</th>\n",
              "      <th>chol</th>\n",
              "      <th>fbs</th>\n",
              "      <th>restecg</th>\n",
              "      <th>thalach</th>\n",
              "      <th>exang</th>\n",
              "      <th>oldpeak</th>\n",
              "      <th>slope</th>\n",
              "      <th>ca</th>\n",
              "      <th>thal</th>\n",
              "      <th>diagnos</th>\n",
              "    </tr>\n",
              "  </thead>\n",
              "  <tbody>\n",
              "    <tr>\n",
              "      <th>0</th>\n",
              "      <td>63</td>\n",
              "      <td>1</td>\n",
              "      <td>3</td>\n",
              "      <td>145</td>\n",
              "      <td>233</td>\n",
              "      <td>1</td>\n",
              "      <td>0</td>\n",
              "      <td>150</td>\n",
              "      <td>0</td>\n",
              "      <td>2.3</td>\n",
              "      <td>0</td>\n",
              "      <td>0</td>\n",
              "      <td>1</td>\n",
              "      <td>1</td>\n",
              "    </tr>\n",
              "    <tr>\n",
              "      <th>1</th>\n",
              "      <td>37</td>\n",
              "      <td>1</td>\n",
              "      <td>2</td>\n",
              "      <td>130</td>\n",
              "      <td>250</td>\n",
              "      <td>0</td>\n",
              "      <td>1</td>\n",
              "      <td>187</td>\n",
              "      <td>0</td>\n",
              "      <td>3.5</td>\n",
              "      <td>0</td>\n",
              "      <td>0</td>\n",
              "      <td>2</td>\n",
              "      <td>1</td>\n",
              "    </tr>\n",
              "    <tr>\n",
              "      <th>2</th>\n",
              "      <td>41</td>\n",
              "      <td>0</td>\n",
              "      <td>1</td>\n",
              "      <td>130</td>\n",
              "      <td>204</td>\n",
              "      <td>0</td>\n",
              "      <td>0</td>\n",
              "      <td>172</td>\n",
              "      <td>0</td>\n",
              "      <td>1.4</td>\n",
              "      <td>2</td>\n",
              "      <td>0</td>\n",
              "      <td>2</td>\n",
              "      <td>1</td>\n",
              "    </tr>\n",
              "    <tr>\n",
              "      <th>3</th>\n",
              "      <td>56</td>\n",
              "      <td>1</td>\n",
              "      <td>1</td>\n",
              "      <td>120</td>\n",
              "      <td>236</td>\n",
              "      <td>0</td>\n",
              "      <td>1</td>\n",
              "      <td>178</td>\n",
              "      <td>0</td>\n",
              "      <td>0.8</td>\n",
              "      <td>2</td>\n",
              "      <td>0</td>\n",
              "      <td>2</td>\n",
              "      <td>1</td>\n",
              "    </tr>\n",
              "    <tr>\n",
              "      <th>4</th>\n",
              "      <td>57</td>\n",
              "      <td>0</td>\n",
              "      <td>0</td>\n",
              "      <td>120</td>\n",
              "      <td>354</td>\n",
              "      <td>0</td>\n",
              "      <td>1</td>\n",
              "      <td>163</td>\n",
              "      <td>1</td>\n",
              "      <td>0.6</td>\n",
              "      <td>2</td>\n",
              "      <td>0</td>\n",
              "      <td>2</td>\n",
              "      <td>1</td>\n",
              "    </tr>\n",
              "    <tr>\n",
              "      <th>5</th>\n",
              "      <td>57</td>\n",
              "      <td>1</td>\n",
              "      <td>0</td>\n",
              "      <td>140</td>\n",
              "      <td>192</td>\n",
              "      <td>0</td>\n",
              "      <td>1</td>\n",
              "      <td>148</td>\n",
              "      <td>0</td>\n",
              "      <td>0.4</td>\n",
              "      <td>1</td>\n",
              "      <td>0</td>\n",
              "      <td>1</td>\n",
              "      <td>1</td>\n",
              "    </tr>\n",
              "    <tr>\n",
              "      <th>6</th>\n",
              "      <td>56</td>\n",
              "      <td>0</td>\n",
              "      <td>1</td>\n",
              "      <td>140</td>\n",
              "      <td>294</td>\n",
              "      <td>0</td>\n",
              "      <td>0</td>\n",
              "      <td>153</td>\n",
              "      <td>0</td>\n",
              "      <td>1.3</td>\n",
              "      <td>1</td>\n",
              "      <td>0</td>\n",
              "      <td>2</td>\n",
              "      <td>1</td>\n",
              "    </tr>\n",
              "    <tr>\n",
              "      <th>7</th>\n",
              "      <td>44</td>\n",
              "      <td>1</td>\n",
              "      <td>1</td>\n",
              "      <td>120</td>\n",
              "      <td>263</td>\n",
              "      <td>0</td>\n",
              "      <td>1</td>\n",
              "      <td>173</td>\n",
              "      <td>0</td>\n",
              "      <td>0.0</td>\n",
              "      <td>2</td>\n",
              "      <td>0</td>\n",
              "      <td>3</td>\n",
              "      <td>1</td>\n",
              "    </tr>\n",
              "    <tr>\n",
              "      <th>8</th>\n",
              "      <td>52</td>\n",
              "      <td>1</td>\n",
              "      <td>2</td>\n",
              "      <td>172</td>\n",
              "      <td>199</td>\n",
              "      <td>1</td>\n",
              "      <td>1</td>\n",
              "      <td>162</td>\n",
              "      <td>0</td>\n",
              "      <td>0.5</td>\n",
              "      <td>2</td>\n",
              "      <td>0</td>\n",
              "      <td>3</td>\n",
              "      <td>1</td>\n",
              "    </tr>\n",
              "    <tr>\n",
              "      <th>9</th>\n",
              "      <td>57</td>\n",
              "      <td>1</td>\n",
              "      <td>2</td>\n",
              "      <td>150</td>\n",
              "      <td>168</td>\n",
              "      <td>0</td>\n",
              "      <td>1</td>\n",
              "      <td>174</td>\n",
              "      <td>0</td>\n",
              "      <td>1.6</td>\n",
              "      <td>2</td>\n",
              "      <td>0</td>\n",
              "      <td>2</td>\n",
              "      <td>1</td>\n",
              "    </tr>\n",
              "  </tbody>\n",
              "</table>\n",
              "</div>"
            ],
            "text/plain": [
              "   age  sex  cp  trestbps  chol  fbs  ...  exang  oldpeak  slope  ca  thal  diagnos\n",
              "0   63    1   3       145   233    1  ...      0      2.3      0   0     1        1\n",
              "1   37    1   2       130   250    0  ...      0      3.5      0   0     2        1\n",
              "2   41    0   1       130   204    0  ...      0      1.4      2   0     2        1\n",
              "3   56    1   1       120   236    0  ...      0      0.8      2   0     2        1\n",
              "4   57    0   0       120   354    0  ...      1      0.6      2   0     2        1\n",
              "5   57    1   0       140   192    0  ...      0      0.4      1   0     1        1\n",
              "6   56    0   1       140   294    0  ...      0      1.3      1   0     2        1\n",
              "7   44    1   1       120   263    0  ...      0      0.0      2   0     3        1\n",
              "8   52    1   2       172   199    1  ...      0      0.5      2   0     3        1\n",
              "9   57    1   2       150   168    0  ...      0      1.6      2   0     2        1\n",
              "\n",
              "[10 rows x 14 columns]"
            ]
          },
          "metadata": {},
          "execution_count": 187
        }
      ]
    },
    {
      "cell_type": "code",
      "metadata": {
        "id": "EgnLf4BM3d1v"
      },
      "source": [
        "#Se elimina la columna de diagnos para tener solo las caracteristicas de cada paciente\n",
        "X = heart.drop('diagnos', axis = 1)\n",
        "\n",
        "#Se asignan los diagnos a variable de y\n",
        "y = heart.diagnos"
      ],
      "execution_count": 188,
      "outputs": []
    },
    {
      "cell_type": "code",
      "metadata": {
        "id": "5jHuC9mZ6dkc"
      },
      "source": [
        "#Se obtiene la frecuencia con la que se tratan los datos en la columna de trestbps y thalach\n",
        "frecuencia_trestbps = pd.value_counts(heart[\"trestbps\"]) #pd.value_counts retorna una lista conlas frecuencias de los valores únicos\n",
        "frecuencia_thalach = pd.value_counts(heart[\"thalach\"])"
      ],
      "execution_count": 189,
      "outputs": []
    },
    {
      "cell_type": "code",
      "metadata": {
        "id": "sy1J1PVa-O4h"
      },
      "source": [
        "#Se crear dataframes con los datos obtenidos anteriormente\n",
        "frec_frame = pd.DataFrame(frecuencia_trestbps)\n",
        "frec_frame_thalach = pd.DataFrame(frecuencia_thalach)\n",
        "\n",
        "\n",
        "\n",
        "#Se le asigna la etiqueta de frecuencia\n",
        "frec_frame.columns = [\"frec_trestbps\"]\n",
        "frec_frame_thalach.columns = [\"frec_thalach\"]"
      ],
      "execution_count": 190,
      "outputs": []
    },
    {
      "cell_type": "code",
      "metadata": {
        "id": "wP_Pd6KS-63p"
      },
      "source": [
        "#Se saca la frecuencia relativa y se ubica en la columna frec_rel_% de cada dataframe\n",
        "frec_frame[\"frec_rel_%\"]=100*frec_frame[\"frec_trestbps\"]/len(heart)\n",
        "frec_frame_thalach[\"frec_rel_%\"]=100*frec_frame_thalach[\"frec_thalach\"]/len(heart)"
      ],
      "execution_count": 191,
      "outputs": []
    },
    {
      "cell_type": "code",
      "metadata": {
        "colab": {
          "base_uri": "https://localhost:8080/",
          "height": 142
        },
        "id": "vVOWa9V6_1ia",
        "outputId": "a5b3e10e-d7a6-454b-af9a-4d65bc455c5c"
      },
      "source": [
        "#Se calcula la frecuencia acumulada para valores de trestbps\n",
        "frec_acum = []\n",
        "valor_acum = np.int(0);\n",
        "\n",
        "#Se suman las frecuencias relativas trestbps\n",
        "for i in frec_frame[\"frec_rel_%\"].values:\n",
        "  valor_acum += i\n",
        "  frec_acum.append(valor_acum)\n",
        "frec_frame[\"frec_rel_%_acum\"] = frec_acum\n",
        "frec_frame.head(3)"
      ],
      "execution_count": 192,
      "outputs": [
        {
          "output_type": "execute_result",
          "data": {
            "text/html": [
              "<div>\n",
              "<style scoped>\n",
              "    .dataframe tbody tr th:only-of-type {\n",
              "        vertical-align: middle;\n",
              "    }\n",
              "\n",
              "    .dataframe tbody tr th {\n",
              "        vertical-align: top;\n",
              "    }\n",
              "\n",
              "    .dataframe thead th {\n",
              "        text-align: right;\n",
              "    }\n",
              "</style>\n",
              "<table border=\"1\" class=\"dataframe\">\n",
              "  <thead>\n",
              "    <tr style=\"text-align: right;\">\n",
              "      <th></th>\n",
              "      <th>frec_trestbps</th>\n",
              "      <th>frec_rel_%</th>\n",
              "      <th>frec_rel_%_acum</th>\n",
              "    </tr>\n",
              "  </thead>\n",
              "  <tbody>\n",
              "    <tr>\n",
              "      <th>120</th>\n",
              "      <td>37</td>\n",
              "      <td>12.211221</td>\n",
              "      <td>12.211221</td>\n",
              "    </tr>\n",
              "    <tr>\n",
              "      <th>130</th>\n",
              "      <td>36</td>\n",
              "      <td>11.881188</td>\n",
              "      <td>24.092409</td>\n",
              "    </tr>\n",
              "    <tr>\n",
              "      <th>140</th>\n",
              "      <td>32</td>\n",
              "      <td>10.561056</td>\n",
              "      <td>34.653465</td>\n",
              "    </tr>\n",
              "  </tbody>\n",
              "</table>\n",
              "</div>"
            ],
            "text/plain": [
              "     frec_trestbps  frec_rel_%  frec_rel_%_acum\n",
              "120             37   12.211221        12.211221\n",
              "130             36   11.881188        24.092409\n",
              "140             32   10.561056        34.653465"
            ]
          },
          "metadata": {},
          "execution_count": 192
        }
      ]
    },
    {
      "cell_type": "code",
      "metadata": {
        "colab": {
          "base_uri": "https://localhost:8080/",
          "height": 142
        },
        "id": "WW5WKDt0HnFQ",
        "outputId": "dc3f08e6-da3b-4335-e5e4-0ecf8c12caf5"
      },
      "source": [
        "#Se calcula la frecuencia acumulada para valores de thalach\n",
        "frec_acum_thalach = []\n",
        "valor_acum_thalach = np.int(0);\n",
        "\n",
        "#Se suman las frecuencias relativas thalach\n",
        "for i in frec_frame_thalach[\"frec_rel_%\"].values:\n",
        "  valor_acum_thalach += i\n",
        "  frec_acum_thalach.append(valor_acum_thalach)\n",
        "  \n",
        "frec_frame_thalach[\"frec_rel_%_acum\"] = frec_acum_thalach\n",
        "frec_frame_thalach.head(3)"
      ],
      "execution_count": 193,
      "outputs": [
        {
          "output_type": "execute_result",
          "data": {
            "text/html": [
              "<div>\n",
              "<style scoped>\n",
              "    .dataframe tbody tr th:only-of-type {\n",
              "        vertical-align: middle;\n",
              "    }\n",
              "\n",
              "    .dataframe tbody tr th {\n",
              "        vertical-align: top;\n",
              "    }\n",
              "\n",
              "    .dataframe thead th {\n",
              "        text-align: right;\n",
              "    }\n",
              "</style>\n",
              "<table border=\"1\" class=\"dataframe\">\n",
              "  <thead>\n",
              "    <tr style=\"text-align: right;\">\n",
              "      <th></th>\n",
              "      <th>frec_thalach</th>\n",
              "      <th>frec_rel_%</th>\n",
              "      <th>frec_rel_%_acum</th>\n",
              "    </tr>\n",
              "  </thead>\n",
              "  <tbody>\n",
              "    <tr>\n",
              "      <th>162</th>\n",
              "      <td>11</td>\n",
              "      <td>3.630363</td>\n",
              "      <td>3.630363</td>\n",
              "    </tr>\n",
              "    <tr>\n",
              "      <th>160</th>\n",
              "      <td>9</td>\n",
              "      <td>2.970297</td>\n",
              "      <td>6.600660</td>\n",
              "    </tr>\n",
              "    <tr>\n",
              "      <th>163</th>\n",
              "      <td>9</td>\n",
              "      <td>2.970297</td>\n",
              "      <td>9.570957</td>\n",
              "    </tr>\n",
              "  </tbody>\n",
              "</table>\n",
              "</div>"
            ],
            "text/plain": [
              "     frec_thalach  frec_rel_%  frec_rel_%_acum\n",
              "162            11    3.630363         3.630363\n",
              "160             9    2.970297         6.600660\n",
              "163             9    2.970297         9.570957"
            ]
          },
          "metadata": {},
          "execution_count": 193
        }
      ]
    },
    {
      "cell_type": "code",
      "metadata": {
        "colab": {
          "base_uri": "https://localhost:8080/",
          "height": 468
        },
        "id": "oIZvo_iRNN-x",
        "outputId": "99ce1188-92ac-4985-9b3d-f43e0e6db51a"
      },
      "source": [
        "#Creacion de diagrama de barras comparando frecuencia con trestbps\n",
        "fig = plt.figure();\n",
        "fig.set_figwidth(30)\n",
        "fig.set_figheight(10)\n",
        "\n",
        "plt.xlabel('trestbps',fontsize=20)\n",
        "plt.ylabel('frecuency',fontsize=20)\n",
        "\n",
        "plt.xticks(frec_frame.index, rotation=60, fontsize=10)\n",
        "plt.bar( frec_frame.index, frec_frame[\"frec_trestbps\"].values, width=0.8, color='black', edgecolor='red')"
      ],
      "execution_count": 194,
      "outputs": [
        {
          "output_type": "execute_result",
          "data": {
            "text/plain": [
              "<BarContainer object of 49 artists>"
            ]
          },
          "metadata": {},
          "execution_count": 194
        },
        {
          "output_type": "display_data",
          "data": {
            "image/png": "[encoded data removed]",
            "text/plain": [
              "<Figure size 2160x720 with 1 Axes>"
            ]
          },
          "metadata": {
            "needs_background": "light"
          }
        }
      ]
    },
    {
      "cell_type": "code",
      "metadata": {
        "colab": {
          "base_uri": "https://localhost:8080/",
          "height": 468
        },
        "id": "bkwHPkn1UPyE",
        "outputId": "038cdf90-f71f-40b5-829b-8b26dfdaf954"
      },
      "source": [
        "#Creacion de diagrama de barras comparando frecuencia con thalach\n",
        "fig = plt.figure();\n",
        "fig.set_figwidth(30)\n",
        "fig.set_figheight(10)\n",
        "plt.xlabel('thalach',fontsize=20)\n",
        "plt.ylabel('frecuency',fontsize=20)\n",
        "plt.xticks(frec_frame_thalach.index, rotation=60, fontsize=10)\n",
        "plt.bar( frec_frame_thalach.index, frec_frame_thalach[\"frec_thalach\"].values, width=0.5, color='black', edgecolor='red')"
      ],
      "execution_count": 195,
      "outputs": [
        {
          "output_type": "execute_result",
          "data": {
            "text/plain": [
              "<BarContainer object of 91 artists>"
            ]
          },
          "metadata": {},
          "execution_count": 195
        },
        {
          "output_type": "display_data",
          "data": {
            "image/png": "[encoded data removed]",
            "text/plain": [
              "<Figure size 2160x720 with 1 Axes>"
            ]
          },
          "metadata": {
            "needs_background": "light"
          }
        }
      ]
    },
    {
      "cell_type": "code",
      "metadata": {
        "id": "2MAIwiEZ4F4o"
      },
      "source": [
        "#Se realiza separacion de datos\n",
        "X_train, X_test, y_train, y_test = train_test_split(X, y, test_size = 0.25, random_state = 4) \n",
        "scaler = StandardScaler()\n",
        "\n",
        "#Se realiza la tranformacio nde los datos de entrenamiento y de test\n",
        "X_train = scaler.fit_transform(X_train)\n",
        "X_test = scaler.transform(X_test)"
      ],
      "execution_count": 196,
      "outputs": []
    },
    {
      "cell_type": "code",
      "metadata": {
        "id": "ZvcgK26fJCrb"
      },
      "source": [
        "clf = SVC(kernel = 'rbf', probability = True)\n",
        "parameters = {'C' : np.logspace(-4,4,9), 'gamma' : np.logspace(-4,4,9)}"
      ],
      "execution_count": 197,
      "outputs": []
    },
    {
      "cell_type": "code",
      "metadata": {
        "colab": {
          "base_uri": "https://localhost:8080/"
        },
        "id": "CsMxDeZHJF8l",
        "outputId": "3d7bfdc9-72dd-44cc-fcd3-56e861b5509e"
      },
      "source": [
        "#Creacion modelo para diagrama de Naive Bayes\n",
        "Bayes_model = GaussianNB()\n",
        "\n",
        "#Creacion de modelo para arboles de decision\n",
        "tree_model = DecisionTreeClassifier(criterion = 'gini', max_depth = 4, random_state = 1)\n",
        "\n",
        "#Validación cruzada para c y gamma\n",
        "SVM_model = GridSearchCV(clf, param_grid = parameters, cv = 5)\n",
        "\n",
        "SVM_model.fit(X_train, y_train)\n",
        "Bayes_model.fit(X_train, y_train)\n",
        "tree_model.fit(X_train, y_train)\n",
        "\n",
        "print('Mejores parámetros: ', SVM_model.best_params_)"
      ],
      "execution_count": 198,
      "outputs": [
        {
          "output_type": "stream",
          "name": "stdout",
          "text": [
            "Mejores parámetros:  {'C': 100.0, 'gamma': 0.001}\n"
          ]
        }
      ]
    },
    {
      "cell_type": "code",
      "metadata": {
        "id": "S593436XJRci"
      },
      "source": [
        "#Se entrena nuevamente  el modelo SVM con los resultado arrojados de gamma y C optimos\n",
        "SVM_model = SVC(kernel = 'rbf', probability = True, C = SVM_model.best_params_['C'], gamma = SVM_model.best_params_['gamma'])\n",
        "SVM_model.fit(X_train, y_train)\n",
        "\n",
        "#Se optienen las predicciones para los modelos de SVM y Naive Bayes\n",
        "y_pred = SVM_model.predict(X_test)\n",
        "y_pred_bayes = Bayes_model.predict(X_test)\n",
        "y_pred_tree = tree_model.predict(X_test)"
      ],
      "execution_count": 199,
      "outputs": []
    },
    {
      "cell_type": "code",
      "metadata": {
        "colab": {
          "base_uri": "https://localhost:8080/",
          "height": 370
        },
        "id": "Kjkv-gs1JnSa",
        "outputId": "1fd4c040-be0c-44dc-b093-e380fdba6469"
      },
      "source": [
        " #Se grafican las matrices de confucion para metodo de SVM\n",
        " plt.figure(figsize = (15,5.5))\n",
        " fig = plt.subplot(1,2,1)\n",
        " plot_confusion_matrix(SVM_model, X_test, y_test, values_format = '.0f', cmap = 'Blues', ax = fig);\n",
        " fig = plt.subplot(1,2,2)\n",
        " plot_confusion_matrix(SVM_model, X_test, y_test, normalize = 'true', cmap = 'Greens', ax = fig);"
      ],
      "execution_count": 200,
      "outputs": [
        {
          "output_type": "display_data",
          "data": {
            "image/png": "[encoded data removed]",
            "text/plain": [
              "<Figure size 1080x396 with 4 Axes>"
            ]
          },
          "metadata": {
            "needs_background": "light"
          }
        }
      ]
    },
    {
      "cell_type": "code",
      "metadata": {
        "colab": {
          "base_uri": "https://localhost:8080/",
          "height": 370
        },
        "id": "xeq6PJEzYKfb",
        "outputId": "be3adce1-3934-43ae-c17f-7bab5a6a25c4"
      },
      "source": [
        " #Se grafican las matrices de confucion para metodo de Naive Bayes\n",
        " plt.figure(figsize = (15,5.5))\n",
        " fig = plt.subplot(1,2,1)\n",
        " plot_confusion_matrix(Bayes_model, X_test, y_test, values_format = '.0f', cmap = 'Greys_r', ax = fig);\n",
        " fig = plt.subplot(1,2,2)\n",
        " plot_confusion_matrix(Bayes_model, X_test, y_test, normalize = 'true', cmap = 'gist_earth_r', ax = fig);"
      ],
      "execution_count": 201,
      "outputs": [
        {
          "output_type": "display_data",
          "data": {
            "image/png": "[encoded data removed]",
            "text/plain": [
              "<Figure size 1080x396 with 4 Axes>"
            ]
          },
          "metadata": {
            "needs_background": "light"
          }
        }
      ]
    },
    {
      "cell_type": "code",
      "metadata": {
        "colab": {
          "base_uri": "https://localhost:8080/",
          "height": 370
        },
        "id": "NyikKzcogqvC",
        "outputId": "473c2978-ec74-4a89-e991-278ed150639a"
      },
      "source": [
        "#Se grafican las matrices de confucion para metodo de Arboles de decision\n",
        "plt.figure(figsize = (15,5.5))\n",
        "fig = plt.subplot(1,2,1)\n",
        "plot_confusion_matrix(tree_model, X_test, y_test, values_format = '.0f', cmap = 'viridis', ax = fig);\n",
        "fig = plt.subplot(1,2,2)\n",
        "plot_confusion_matrix(tree_model, X_test, y_test, normalize = 'true', cmap = 'inferno_r', ax = fig);"
      ],
      "execution_count": 202,
      "outputs": [
        {
          "output_type": "display_data",
          "data": {
            "image/png": "[encoded data removed]",
            "text/plain": [
              "<Figure size 1080x396 with 4 Axes>"
            ]
          },
          "metadata": {
            "needs_background": "light"
          }
        }
      ]
    },
    {
      "cell_type": "code",
      "metadata": {
        "colab": {
          "base_uri": "https://localhost:8080/"
        },
        "id": "sDqJo4QxJSY0",
        "outputId": "e6b10730-c2c4-443a-da86-e8f08045f38c"
      },
      "source": [
        "print('Accuracy en entrenamiento SVM: {:.5f}'.format(SVM_model.score(X_train, y_train)))\n",
        "print('Accuracy en test SVM: {:.5f}'.format(SVM_model.score(X_test, y_test)))\n",
        "print('')\n",
        "print('Accuracy en entrenamiento Naive Bayes: {:.5f}'.format(Bayes_model.score(X_train, y_train)))\n",
        "print('Accuracy en test Naive Bayes: {:.5f}'.format(Bayes_model.score(X_test, y_test)))\n",
        "print('')\n",
        "print('Accuracy en entrenamiento DT: {:.5f}'.format(tree_model.score(X_train, y_train)))\n",
        "print('Accuracy en test DT: {:.5f}'.format(tree_model.score(X_test, y_test)))"
      ],
      "execution_count": 203,
      "outputs": [
        {
          "output_type": "stream",
          "name": "stdout",
          "text": [
            "Accuracy en entrenamiento SVM: 0.87665\n",
            "Accuracy en test SVM: 0.81579\n",
            "\n",
            "Accuracy en entrenamiento Naive Bayes: 0.85463\n",
            "Accuracy en test Naive Bayes: 0.77632\n",
            "\n",
            "Accuracy en entrenamiento DT: 0.88546\n",
            "Accuracy en test DT: 0.81579\n"
          ]
        }
      ]
    },
    {
      "cell_type": "code",
      "metadata": {
        "colab": {
          "base_uri": "https://localhost:8080/",
          "height": 497
        },
        "id": "caWYR1AjJsKN",
        "outputId": "f1b7b2c6-a307-4d02-d6d5-9f384e7f8788"
      },
      "source": [
        "#Se realiza grafico de comparativa para ver la diferencia entre los metodos implementados\n",
        "\n",
        "plt.figure(figsize = (8,8))\n",
        "y_pre_proba = SVM_model.predict_proba(X_test)[:,1]\n",
        "y_pre_bayes_proba = Bayes_model.predict_proba(X_test)[:,1]\n",
        "y_pre_dt_proba = tree_model.predict_proba(X_test)[:,1]\n",
        "\n",
        "fpr, tpr, _ = roc_curve(y_test, y_pre_proba)\n",
        "fprBayes, tprBayes, _ = roc_curve(y_test, y_pre_bayes_proba)\n",
        "fprDT, tprDT, _ = roc_curve(y_test, y_pre_dt_proba)\n",
        "\n",
        "auc = roc_auc_score(y_test, y_pre_proba)\n",
        "aucBayes = roc_auc_score(y_test, y_pre_bayes_proba)\n",
        "aucDT = roc_auc_score(y_test, y_pre_dt_proba)\n",
        "\n",
        "plt.plot(fpr,tpr, label = 'AUC SVM: {:.5f}'.format(auc));\n",
        "plt.plot(fprBayes,tprBayes, label = 'AUC NB: {:.5f}'.format(aucBayes));\n",
        "plt.plot(fprDT,tprDT, label = 'AUC DT: {:.5f}'.format(aucDT));\n",
        "\n",
        "plt.plot([0,1],[0,1], linestyle = '--', lw = 2, color = 'r', alpha = 0.8, label = 'Clasificador aleatorio.');\n",
        "\n",
        "plt.grid();\n",
        "plt.legend();\n",
        "plt.xlim([-0.005,1]);\n",
        "plt.ylim([0,1.005]);"
      ],
      "execution_count": 204,
      "outputs": [
        {
          "output_type": "display_data",
          "data": {
            "image/png": "[encoded data removed]",
            "text/plain": [
              "<Figure size 576x576 with 1 Axes>"
            ]
          },
          "metadata": {
            "needs_background": "light"
          }
        }
      ]
    },
    {
      "cell_type": "code",
      "metadata": {
        "colab": {
          "base_uri": "https://localhost:8080/"
        },
        "id": "-clYPYkGXvhy",
        "outputId": "051d2378-005d-48e4-f23e-ead029e1089f"
      },
      "source": [
        "#Obtenemos los reportes de clasificacion para metodo SVM\n",
        "print(classification_report(y_test, y_pred))"
      ],
      "execution_count": 205,
      "outputs": [
        {
          "output_type": "stream",
          "name": "stdout",
          "text": [
            "              precision    recall  f1-score   support\n",
            "\n",
            "           0       0.83      0.73      0.77        33\n",
            "           1       0.81      0.88      0.84        43\n",
            "\n",
            "    accuracy                           0.82        76\n",
            "   macro avg       0.82      0.81      0.81        76\n",
            "weighted avg       0.82      0.82      0.81        76\n",
            "\n"
          ]
        }
      ]
    },
    {
      "cell_type": "code",
      "metadata": {
        "colab": {
          "base_uri": "https://localhost:8080/"
        },
        "id": "Z2mpx5oyJWq2",
        "outputId": "b0623bc6-d1ce-4599-8590-588b116639ef"
      },
      "source": [
        "#Obtenemos los reportes de clasificacion para metodo Naive Bayes\n",
        "print(classification_report(y_test, y_pred_bayes))"
      ],
      "execution_count": 206,
      "outputs": [
        {
          "output_type": "stream",
          "name": "stdout",
          "text": [
            "              precision    recall  f1-score   support\n",
            "\n",
            "           0       0.79      0.67      0.72        33\n",
            "           1       0.77      0.86      0.81        43\n",
            "\n",
            "    accuracy                           0.78        76\n",
            "   macro avg       0.78      0.76      0.77        76\n",
            "weighted avg       0.78      0.78      0.77        76\n",
            "\n"
          ]
        }
      ]
    },
    {
      "cell_type": "code",
      "metadata": {
        "colab": {
          "base_uri": "https://localhost:8080/"
        },
        "id": "p_Ey6XiMhIgP",
        "outputId": "5b5fb33c-f2af-41a1-bd43-1ebd74ecb963"
      },
      "source": [
        "#Obtenemos los reportes de clasificacion para metodo Naive Bayes\n",
        "print(classification_report(y_test, y_pred_tree))"
      ],
      "execution_count": 207,
      "outputs": [
        {
          "output_type": "stream",
          "name": "stdout",
          "text": [
            "              precision    recall  f1-score   support\n",
            "\n",
            "           0       0.95      0.61      0.74        33\n",
            "           1       0.76      0.98      0.86        43\n",
            "\n",
            "    accuracy                           0.82        76\n",
            "   macro avg       0.86      0.79      0.80        76\n",
            "weighted avg       0.85      0.82      0.81        76\n",
            "\n"
          ]
        }
      ]
    }
  ]
}