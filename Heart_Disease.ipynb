{
  "nbformat": 4,
  "nbformat_minor": 0,
  "metadata": {
    "colab": {
      "name": "Heart Disease.ipynb",
      "provenance": [],
      "collapsed_sections": [],
      "mount_file_id": "1zAZRUe1Lp5PhPfTkXHfqr2dicIm7ukPd",
      "authorship_tag": "ABX9TyMiZi/tv58uuWYzx64sYtwO",
      "include_colab_link": true
    },
    "kernelspec": {
      "name": "python3",
      "display_name": "Python 3"
    },
    "language_info": {
      "name": "python"
    }
  },
  "cells": [
    {
      "cell_type": "markdown",
      "metadata": {
        "id": "view-in-github",
        "colab_type": "text"
      },
      "source": [
        "<a href=\"https://colab.research.google.com/github/AlejoGalloM/MachineLearning/blob/master/Heart_Disease.ipynb\" target=\"_parent\"><img src=\"https://colab.research.google.com/assets/colab-badge.svg\" alt=\"Open In Colab\"/></a>"
      ]
    },
    {
      "cell_type": "markdown",
      "metadata": {
        "id": "EteAOpq-wMaP"
      },
      "source": [
        "## ***Heart Disease Data***\n",
        "\n",
        "***Proceso de verificacion del articulo cientifico de comparacion de metodos de machine learnng elegido para el parcial***\n",
        "\n"
      ]
    },
    {
      "cell_type": "code",
      "metadata": {
        "id": "wzK9Gl27tdq7"
      },
      "source": [
        "#Importaciones utilizadas\n",
        "import pandas as pd\n",
        "import numpy as np\n",
        "import matplotlib.pyplot as plt\n",
        "from matplotlib.ticker import PercentFormatter\n",
        "\n",
        "from sklearn.model_selection import train_test_split, GridSearchCV\n",
        "from sklearn.preprocessing import StandardScaler\n",
        "from sklearn.svm import SVC\n",
        "from sklearn.metrics import classification_report, confusion_matrix, plot_confusion_matrix, roc_curve, roc_auc_score\n",
        "from sklearn.naive_bayes import GaussianNB\n"
      ],
      "execution_count": 235,
      "outputs": []
    },
    {
      "cell_type": "code",
      "metadata": {
        "id": "NClNkMiuzjgx"
      },
      "source": [
        "#Se leen los datos de la base y se agregan sus etiquitas correspondientes para cada columno\n",
        "col_names = [\"age\",\"sex\",\"cp\",\"trestbps\",\"chol\",\"fbs\",\"restecg\",\"thalach\",\"exang\",\"oldpeak\",\"slope\",\"ca\",\"thal\",\"diagnos\"]\n",
        "\n",
        "path = 'drive/MyDrive/data/heart.csv'\n",
        "heart = pd.read_csv(path)\n",
        "heart = heart.set_axis(col_names, axis = 1)"
      ],
      "execution_count": 236,
      "outputs": []
    },
    {
      "cell_type": "code",
      "metadata": {
        "colab": {
          "base_uri": "https://localhost:8080/",
          "height": 419
        },
        "id": "jM_DkKY99nVG",
        "outputId": "da0d6399-dadc-4ecd-bf3a-d258d4ce42cb"
      },
      "source": [
        "heart.head(300)"
      ],
      "execution_count": 237,
      "outputs": [
        {
          "output_type": "execute_result",
          "data": {
            "text/html": [
              "<div>\n",
              "<style scoped>\n",
              "    .dataframe tbody tr th:only-of-type {\n",
              "        vertical-align: middle;\n",
              "    }\n",
              "\n",
              "    .dataframe tbody tr th {\n",
              "        vertical-align: top;\n",
              "    }\n",
              "\n",
              "    .dataframe thead th {\n",
              "        text-align: right;\n",
              "    }\n",
              "</style>\n",
              "<table border=\"1\" class=\"dataframe\">\n",
              "  <thead>\n",
              "    <tr style=\"text-align: right;\">\n",
              "      <th></th>\n",
              "      <th>age</th>\n",
              "      <th>sex</th>\n",
              "      <th>cp</th>\n",
              "      <th>trestbps</th>\n",
              "      <th>chol</th>\n",
              "      <th>fbs</th>\n",
              "      <th>restecg</th>\n",
              "      <th>thalach</th>\n",
              "      <th>exang</th>\n",
              "      <th>oldpeak</th>\n",
              "      <th>slope</th>\n",
              "      <th>ca</th>\n",
              "      <th>thal</th>\n",
              "      <th>diagnos</th>\n",
              "    </tr>\n",
              "  </thead>\n",
              "  <tbody>\n",
              "    <tr>\n",
              "      <th>0</th>\n",
              "      <td>63</td>\n",
              "      <td>1</td>\n",
              "      <td>3</td>\n",
              "      <td>145</td>\n",
              "      <td>233</td>\n",
              "      <td>1</td>\n",
              "      <td>0</td>\n",
              "      <td>150</td>\n",
              "      <td>0</td>\n",
              "      <td>2.3</td>\n",
              "      <td>0</td>\n",
              "      <td>0</td>\n",
              "      <td>1</td>\n",
              "      <td>1</td>\n",
              "    </tr>\n",
              "    <tr>\n",
              "      <th>1</th>\n",
              "      <td>37</td>\n",
              "      <td>1</td>\n",
              "      <td>2</td>\n",
              "      <td>130</td>\n",
              "      <td>250</td>\n",
              "      <td>0</td>\n",
              "      <td>1</td>\n",
              "      <td>187</td>\n",
              "      <td>0</td>\n",
              "      <td>3.5</td>\n",
              "      <td>0</td>\n",
              "      <td>0</td>\n",
              "      <td>2</td>\n",
              "      <td>1</td>\n",
              "    </tr>\n",
              "    <tr>\n",
              "      <th>2</th>\n",
              "      <td>41</td>\n",
              "      <td>0</td>\n",
              "      <td>1</td>\n",
              "      <td>130</td>\n",
              "      <td>204</td>\n",
              "      <td>0</td>\n",
              "      <td>0</td>\n",
              "      <td>172</td>\n",
              "      <td>0</td>\n",
              "      <td>1.4</td>\n",
              "      <td>2</td>\n",
              "      <td>0</td>\n",
              "      <td>2</td>\n",
              "      <td>1</td>\n",
              "    </tr>\n",
              "    <tr>\n",
              "      <th>3</th>\n",
              "      <td>56</td>\n",
              "      <td>1</td>\n",
              "      <td>1</td>\n",
              "      <td>120</td>\n",
              "      <td>236</td>\n",
              "      <td>0</td>\n",
              "      <td>1</td>\n",
              "      <td>178</td>\n",
              "      <td>0</td>\n",
              "      <td>0.8</td>\n",
              "      <td>2</td>\n",
              "      <td>0</td>\n",
              "      <td>2</td>\n",
              "      <td>1</td>\n",
              "    </tr>\n",
              "    <tr>\n",
              "      <th>4</th>\n",
              "      <td>57</td>\n",
              "      <td>0</td>\n",
              "      <td>0</td>\n",
              "      <td>120</td>\n",
              "      <td>354</td>\n",
              "      <td>0</td>\n",
              "      <td>1</td>\n",
              "      <td>163</td>\n",
              "      <td>1</td>\n",
              "      <td>0.6</td>\n",
              "      <td>2</td>\n",
              "      <td>0</td>\n",
              "      <td>2</td>\n",
              "      <td>1</td>\n",
              "    </tr>\n",
              "    <tr>\n",
              "      <th>...</th>\n",
              "      <td>...</td>\n",
              "      <td>...</td>\n",
              "      <td>...</td>\n",
              "      <td>...</td>\n",
              "      <td>...</td>\n",
              "      <td>...</td>\n",
              "      <td>...</td>\n",
              "      <td>...</td>\n",
              "      <td>...</td>\n",
              "      <td>...</td>\n",
              "      <td>...</td>\n",
              "      <td>...</td>\n",
              "      <td>...</td>\n",
              "      <td>...</td>\n",
              "    </tr>\n",
              "    <tr>\n",
              "      <th>295</th>\n",
              "      <td>63</td>\n",
              "      <td>1</td>\n",
              "      <td>0</td>\n",
              "      <td>140</td>\n",
              "      <td>187</td>\n",
              "      <td>0</td>\n",
              "      <td>0</td>\n",
              "      <td>144</td>\n",
              "      <td>1</td>\n",
              "      <td>4.0</td>\n",
              "      <td>2</td>\n",
              "      <td>2</td>\n",
              "      <td>3</td>\n",
              "      <td>0</td>\n",
              "    </tr>\n",
              "    <tr>\n",
              "      <th>296</th>\n",
              "      <td>63</td>\n",
              "      <td>0</td>\n",
              "      <td>0</td>\n",
              "      <td>124</td>\n",
              "      <td>197</td>\n",
              "      <td>0</td>\n",
              "      <td>1</td>\n",
              "      <td>136</td>\n",
              "      <td>1</td>\n",
              "      <td>0.0</td>\n",
              "      <td>1</td>\n",
              "      <td>0</td>\n",
              "      <td>2</td>\n",
              "      <td>0</td>\n",
              "    </tr>\n",
              "    <tr>\n",
              "      <th>297</th>\n",
              "      <td>59</td>\n",
              "      <td>1</td>\n",
              "      <td>0</td>\n",
              "      <td>164</td>\n",
              "      <td>176</td>\n",
              "      <td>1</td>\n",
              "      <td>0</td>\n",
              "      <td>90</td>\n",
              "      <td>0</td>\n",
              "      <td>1.0</td>\n",
              "      <td>1</td>\n",
              "      <td>2</td>\n",
              "      <td>1</td>\n",
              "      <td>0</td>\n",
              "    </tr>\n",
              "    <tr>\n",
              "      <th>298</th>\n",
              "      <td>57</td>\n",
              "      <td>0</td>\n",
              "      <td>0</td>\n",
              "      <td>140</td>\n",
              "      <td>241</td>\n",
              "      <td>0</td>\n",
              "      <td>1</td>\n",
              "      <td>123</td>\n",
              "      <td>1</td>\n",
              "      <td>0.2</td>\n",
              "      <td>1</td>\n",
              "      <td>0</td>\n",
              "      <td>3</td>\n",
              "      <td>0</td>\n",
              "    </tr>\n",
              "    <tr>\n",
              "      <th>299</th>\n",
              "      <td>45</td>\n",
              "      <td>1</td>\n",
              "      <td>3</td>\n",
              "      <td>110</td>\n",
              "      <td>264</td>\n",
              "      <td>0</td>\n",
              "      <td>1</td>\n",
              "      <td>132</td>\n",
              "      <td>0</td>\n",
              "      <td>1.2</td>\n",
              "      <td>1</td>\n",
              "      <td>0</td>\n",
              "      <td>3</td>\n",
              "      <td>0</td>\n",
              "    </tr>\n",
              "  </tbody>\n",
              "</table>\n",
              "<p>300 rows × 14 columns</p>\n",
              "</div>"
            ],
            "text/plain": [
              "     age  sex  cp  trestbps  chol  ...  oldpeak  slope  ca  thal  diagnos\n",
              "0     63    1   3       145   233  ...      2.3      0   0     1        1\n",
              "1     37    1   2       130   250  ...      3.5      0   0     2        1\n",
              "2     41    0   1       130   204  ...      1.4      2   0     2        1\n",
              "3     56    1   1       120   236  ...      0.8      2   0     2        1\n",
              "4     57    0   0       120   354  ...      0.6      2   0     2        1\n",
              "..   ...  ...  ..       ...   ...  ...      ...    ...  ..   ...      ...\n",
              "295   63    1   0       140   187  ...      4.0      2   2     3        0\n",
              "296   63    0   0       124   197  ...      0.0      1   0     2        0\n",
              "297   59    1   0       164   176  ...      1.0      1   2     1        0\n",
              "298   57    0   0       140   241  ...      0.2      1   0     3        0\n",
              "299   45    1   3       110   264  ...      1.2      1   0     3        0\n",
              "\n",
              "[300 rows x 14 columns]"
            ]
          },
          "metadata": {},
          "execution_count": 237
        }
      ]
    },
    {
      "cell_type": "code",
      "metadata": {
        "id": "EgnLf4BM3d1v"
      },
      "source": [
        "#Se elimina la columna de diagnos para tener solo las caracteristicas de cada paciente\n",
        "X = heart.drop('diagnos', axis = 1)\n",
        "\n",
        "#Se asignan los diagnos a variable de y\n",
        "y = heart.diagnos\n"
      ],
      "execution_count": 238,
      "outputs": []
    },
    {
      "cell_type": "code",
      "metadata": {
        "id": "5jHuC9mZ6dkc"
      },
      "source": [
        "#Se obtiene la frecuencia con la que se tratan los datos en la columna de trestbps\n",
        "frecuencia_trestbps = pd.value_counts(heart[\"trestbps\"])\n",
        "frecuencia_thalach = pd.value_counts(heart[\"thalach\"])"
      ],
      "execution_count": 239,
      "outputs": []
    },
    {
      "cell_type": "code",
      "metadata": {
        "colab": {
          "base_uri": "https://localhost:8080/",
          "height": 204
        },
        "id": "sy1J1PVa-O4h",
        "outputId": "e8e9d883-21f1-429b-f4df-da479486d314"
      },
      "source": [
        "frec_frame = pd.DataFrame(frecuencia_trestbps)\n",
        "\n",
        "#Se le asigna la etiqueta de frecuencia\n",
        "frec_frame.columns = [\"frec_trestbps\"]\n",
        "\n",
        "frec_frame.head(5)"
      ],
      "execution_count": 240,
      "outputs": [
        {
          "output_type": "execute_result",
          "data": {
            "text/html": [
              "<div>\n",
              "<style scoped>\n",
              "    .dataframe tbody tr th:only-of-type {\n",
              "        vertical-align: middle;\n",
              "    }\n",
              "\n",
              "    .dataframe tbody tr th {\n",
              "        vertical-align: top;\n",
              "    }\n",
              "\n",
              "    .dataframe thead th {\n",
              "        text-align: right;\n",
              "    }\n",
              "</style>\n",
              "<table border=\"1\" class=\"dataframe\">\n",
              "  <thead>\n",
              "    <tr style=\"text-align: right;\">\n",
              "      <th></th>\n",
              "      <th>frec_trestbps</th>\n",
              "    </tr>\n",
              "  </thead>\n",
              "  <tbody>\n",
              "    <tr>\n",
              "      <th>120</th>\n",
              "      <td>37</td>\n",
              "    </tr>\n",
              "    <tr>\n",
              "      <th>130</th>\n",
              "      <td>36</td>\n",
              "    </tr>\n",
              "    <tr>\n",
              "      <th>140</th>\n",
              "      <td>32</td>\n",
              "    </tr>\n",
              "    <tr>\n",
              "      <th>110</th>\n",
              "      <td>19</td>\n",
              "    </tr>\n",
              "    <tr>\n",
              "      <th>150</th>\n",
              "      <td>17</td>\n",
              "    </tr>\n",
              "  </tbody>\n",
              "</table>\n",
              "</div>"
            ],
            "text/plain": [
              "     frec_trestbps\n",
              "120             37\n",
              "130             36\n",
              "140             32\n",
              "110             19\n",
              "150             17"
            ]
          },
          "metadata": {},
          "execution_count": 240
        }
      ]
    },
    {
      "cell_type": "code",
      "metadata": {
        "colab": {
          "base_uri": "https://localhost:8080/",
          "height": 204
        },
        "id": "YsP6OnSnHG8_",
        "outputId": "dd1c62f9-dc9b-40c0-9891-84b2a18e7c06"
      },
      "source": [
        "frec_frame_thalach = pd.DataFrame(frecuencia_thalach)\n",
        "frec_frame_thalach.columns = [\"frec_thalach\"]\n",
        "frec_frame_thalach.head(5)"
      ],
      "execution_count": 241,
      "outputs": [
        {
          "output_type": "execute_result",
          "data": {
            "text/html": [
              "<div>\n",
              "<style scoped>\n",
              "    .dataframe tbody tr th:only-of-type {\n",
              "        vertical-align: middle;\n",
              "    }\n",
              "\n",
              "    .dataframe tbody tr th {\n",
              "        vertical-align: top;\n",
              "    }\n",
              "\n",
              "    .dataframe thead th {\n",
              "        text-align: right;\n",
              "    }\n",
              "</style>\n",
              "<table border=\"1\" class=\"dataframe\">\n",
              "  <thead>\n",
              "    <tr style=\"text-align: right;\">\n",
              "      <th></th>\n",
              "      <th>frec_thalach</th>\n",
              "    </tr>\n",
              "  </thead>\n",
              "  <tbody>\n",
              "    <tr>\n",
              "      <th>162</th>\n",
              "      <td>11</td>\n",
              "    </tr>\n",
              "    <tr>\n",
              "      <th>160</th>\n",
              "      <td>9</td>\n",
              "    </tr>\n",
              "    <tr>\n",
              "      <th>163</th>\n",
              "      <td>9</td>\n",
              "    </tr>\n",
              "    <tr>\n",
              "      <th>173</th>\n",
              "      <td>8</td>\n",
              "    </tr>\n",
              "    <tr>\n",
              "      <th>152</th>\n",
              "      <td>8</td>\n",
              "    </tr>\n",
              "  </tbody>\n",
              "</table>\n",
              "</div>"
            ],
            "text/plain": [
              "     frec_thalach\n",
              "162            11\n",
              "160             9\n",
              "163             9\n",
              "173             8\n",
              "152             8"
            ]
          },
          "metadata": {},
          "execution_count": 241
        }
      ]
    },
    {
      "cell_type": "code",
      "metadata": {
        "colab": {
          "base_uri": "https://localhost:8080/",
          "height": 204
        },
        "id": "wP_Pd6KS-63p",
        "outputId": "97f56db6-d563-4437-d5a3-5e0edbcffb4a"
      },
      "source": [
        "#Se saca la frecuencia relativa\n",
        "frec_frame[\"frec_rel_%\"]=100*frec_frame[\"frec_trestbps\"]/len(heart)\n",
        "frec_frame.head(5)"
      ],
      "execution_count": 242,
      "outputs": [
        {
          "output_type": "execute_result",
          "data": {
            "text/html": [
              "<div>\n",
              "<style scoped>\n",
              "    .dataframe tbody tr th:only-of-type {\n",
              "        vertical-align: middle;\n",
              "    }\n",
              "\n",
              "    .dataframe tbody tr th {\n",
              "        vertical-align: top;\n",
              "    }\n",
              "\n",
              "    .dataframe thead th {\n",
              "        text-align: right;\n",
              "    }\n",
              "</style>\n",
              "<table border=\"1\" class=\"dataframe\">\n",
              "  <thead>\n",
              "    <tr style=\"text-align: right;\">\n",
              "      <th></th>\n",
              "      <th>frec_trestbps</th>\n",
              "      <th>frec_rel_%</th>\n",
              "    </tr>\n",
              "  </thead>\n",
              "  <tbody>\n",
              "    <tr>\n",
              "      <th>120</th>\n",
              "      <td>37</td>\n",
              "      <td>12.211221</td>\n",
              "    </tr>\n",
              "    <tr>\n",
              "      <th>130</th>\n",
              "      <td>36</td>\n",
              "      <td>11.881188</td>\n",
              "    </tr>\n",
              "    <tr>\n",
              "      <th>140</th>\n",
              "      <td>32</td>\n",
              "      <td>10.561056</td>\n",
              "    </tr>\n",
              "    <tr>\n",
              "      <th>110</th>\n",
              "      <td>19</td>\n",
              "      <td>6.270627</td>\n",
              "    </tr>\n",
              "    <tr>\n",
              "      <th>150</th>\n",
              "      <td>17</td>\n",
              "      <td>5.610561</td>\n",
              "    </tr>\n",
              "  </tbody>\n",
              "</table>\n",
              "</div>"
            ],
            "text/plain": [
              "     frec_trestbps  frec_rel_%\n",
              "120             37   12.211221\n",
              "130             36   11.881188\n",
              "140             32   10.561056\n",
              "110             19    6.270627\n",
              "150             17    5.610561"
            ]
          },
          "metadata": {},
          "execution_count": 242
        }
      ]
    },
    {
      "cell_type": "code",
      "metadata": {
        "colab": {
          "base_uri": "https://localhost:8080/",
          "height": 204
        },
        "id": "7s04EVEqHRPX",
        "outputId": "fbc787be-9190-469a-814c-ae1fa6a7bf7f"
      },
      "source": [
        "frec_frame_thalach[\"frec_rel_%\"]=100*frec_frame_thalach[\"frec_thalach\"]/len(heart)\n",
        "frec_frame_thalach.head(5)"
      ],
      "execution_count": 243,
      "outputs": [
        {
          "output_type": "execute_result",
          "data": {
            "text/html": [
              "<div>\n",
              "<style scoped>\n",
              "    .dataframe tbody tr th:only-of-type {\n",
              "        vertical-align: middle;\n",
              "    }\n",
              "\n",
              "    .dataframe tbody tr th {\n",
              "        vertical-align: top;\n",
              "    }\n",
              "\n",
              "    .dataframe thead th {\n",
              "        text-align: right;\n",
              "    }\n",
              "</style>\n",
              "<table border=\"1\" class=\"dataframe\">\n",
              "  <thead>\n",
              "    <tr style=\"text-align: right;\">\n",
              "      <th></th>\n",
              "      <th>frec_thalach</th>\n",
              "      <th>frec_rel_%</th>\n",
              "    </tr>\n",
              "  </thead>\n",
              "  <tbody>\n",
              "    <tr>\n",
              "      <th>162</th>\n",
              "      <td>11</td>\n",
              "      <td>3.630363</td>\n",
              "    </tr>\n",
              "    <tr>\n",
              "      <th>160</th>\n",
              "      <td>9</td>\n",
              "      <td>2.970297</td>\n",
              "    </tr>\n",
              "    <tr>\n",
              "      <th>163</th>\n",
              "      <td>9</td>\n",
              "      <td>2.970297</td>\n",
              "    </tr>\n",
              "    <tr>\n",
              "      <th>173</th>\n",
              "      <td>8</td>\n",
              "      <td>2.640264</td>\n",
              "    </tr>\n",
              "    <tr>\n",
              "      <th>152</th>\n",
              "      <td>8</td>\n",
              "      <td>2.640264</td>\n",
              "    </tr>\n",
              "  </tbody>\n",
              "</table>\n",
              "</div>"
            ],
            "text/plain": [
              "     frec_thalach  frec_rel_%\n",
              "162            11    3.630363\n",
              "160             9    2.970297\n",
              "163             9    2.970297\n",
              "173             8    2.640264\n",
              "152             8    2.640264"
            ]
          },
          "metadata": {},
          "execution_count": 243
        }
      ]
    },
    {
      "cell_type": "code",
      "metadata": {
        "colab": {
          "base_uri": "https://localhost:8080/",
          "height": 359
        },
        "id": "vVOWa9V6_1ia",
        "outputId": "d3d89058-80e7-4d20-9c15-1e40a260b834"
      },
      "source": [
        "#Se calcula la frecuencia acumulada\n",
        "frec_acum = []\n",
        "valor_acum = np.int();\n",
        "\n",
        "#Se suman las frecuencias relativas\n",
        "for i in frec_frame[\"frec_rel_%\"].values:\n",
        "  valor_acum += i\n",
        "  frec_acum.append(valor_acum)\n",
        "frec_frame[\"frec_rel_%_acum\"] = frec_acum\n",
        "frec_frame.head(10)"
      ],
      "execution_count": 244,
      "outputs": [
        {
          "output_type": "execute_result",
          "data": {
            "text/html": [
              "<div>\n",
              "<style scoped>\n",
              "    .dataframe tbody tr th:only-of-type {\n",
              "        vertical-align: middle;\n",
              "    }\n",
              "\n",
              "    .dataframe tbody tr th {\n",
              "        vertical-align: top;\n",
              "    }\n",
              "\n",
              "    .dataframe thead th {\n",
              "        text-align: right;\n",
              "    }\n",
              "</style>\n",
              "<table border=\"1\" class=\"dataframe\">\n",
              "  <thead>\n",
              "    <tr style=\"text-align: right;\">\n",
              "      <th></th>\n",
              "      <th>frec_trestbps</th>\n",
              "      <th>frec_rel_%</th>\n",
              "      <th>frec_rel_%_acum</th>\n",
              "    </tr>\n",
              "  </thead>\n",
              "  <tbody>\n",
              "    <tr>\n",
              "      <th>120</th>\n",
              "      <td>37</td>\n",
              "      <td>12.211221</td>\n",
              "      <td>12.211221</td>\n",
              "    </tr>\n",
              "    <tr>\n",
              "      <th>130</th>\n",
              "      <td>36</td>\n",
              "      <td>11.881188</td>\n",
              "      <td>24.092409</td>\n",
              "    </tr>\n",
              "    <tr>\n",
              "      <th>140</th>\n",
              "      <td>32</td>\n",
              "      <td>10.561056</td>\n",
              "      <td>34.653465</td>\n",
              "    </tr>\n",
              "    <tr>\n",
              "      <th>110</th>\n",
              "      <td>19</td>\n",
              "      <td>6.270627</td>\n",
              "      <td>40.924092</td>\n",
              "    </tr>\n",
              "    <tr>\n",
              "      <th>150</th>\n",
              "      <td>17</td>\n",
              "      <td>5.610561</td>\n",
              "      <td>46.534653</td>\n",
              "    </tr>\n",
              "    <tr>\n",
              "      <th>138</th>\n",
              "      <td>13</td>\n",
              "      <td>4.290429</td>\n",
              "      <td>50.825083</td>\n",
              "    </tr>\n",
              "    <tr>\n",
              "      <th>128</th>\n",
              "      <td>12</td>\n",
              "      <td>3.960396</td>\n",
              "      <td>54.785479</td>\n",
              "    </tr>\n",
              "    <tr>\n",
              "      <th>125</th>\n",
              "      <td>11</td>\n",
              "      <td>3.630363</td>\n",
              "      <td>58.415842</td>\n",
              "    </tr>\n",
              "    <tr>\n",
              "      <th>160</th>\n",
              "      <td>11</td>\n",
              "      <td>3.630363</td>\n",
              "      <td>62.046205</td>\n",
              "    </tr>\n",
              "    <tr>\n",
              "      <th>112</th>\n",
              "      <td>9</td>\n",
              "      <td>2.970297</td>\n",
              "      <td>65.016502</td>\n",
              "    </tr>\n",
              "  </tbody>\n",
              "</table>\n",
              "</div>"
            ],
            "text/plain": [
              "     frec_trestbps  frec_rel_%  frec_rel_%_acum\n",
              "120             37   12.211221        12.211221\n",
              "130             36   11.881188        24.092409\n",
              "140             32   10.561056        34.653465\n",
              "110             19    6.270627        40.924092\n",
              "150             17    5.610561        46.534653\n",
              "138             13    4.290429        50.825083\n",
              "128             12    3.960396        54.785479\n",
              "125             11    3.630363        58.415842\n",
              "160             11    3.630363        62.046205\n",
              "112              9    2.970297        65.016502"
            ]
          },
          "metadata": {},
          "execution_count": 244
        }
      ]
    },
    {
      "cell_type": "code",
      "metadata": {
        "colab": {
          "base_uri": "https://localhost:8080/",
          "height": 204
        },
        "id": "WW5WKDt0HnFQ",
        "outputId": "899ca37d-a615-4beb-fe5a-3e42da4f74fc"
      },
      "source": [
        "frec_acum_thalach = []\n",
        "valor_acum_thalach = np.int(0);\n",
        "\n",
        "for i in frec_frame_thalach[\"frec_rel_%\"].values:\n",
        "  valor_acum_thalach += i\n",
        "  frec_acum_thalach.append(valor_acum_thalach)\n",
        "  \n",
        "frec_frame_thalach[\"frec_rel_%_acum\"] = frec_acum_thalach\n",
        "frec_frame_thalach.head(5)"
      ],
      "execution_count": 245,
      "outputs": [
        {
          "output_type": "execute_result",
          "data": {
            "text/html": [
              "<div>\n",
              "<style scoped>\n",
              "    .dataframe tbody tr th:only-of-type {\n",
              "        vertical-align: middle;\n",
              "    }\n",
              "\n",
              "    .dataframe tbody tr th {\n",
              "        vertical-align: top;\n",
              "    }\n",
              "\n",
              "    .dataframe thead th {\n",
              "        text-align: right;\n",
              "    }\n",
              "</style>\n",
              "<table border=\"1\" class=\"dataframe\">\n",
              "  <thead>\n",
              "    <tr style=\"text-align: right;\">\n",
              "      <th></th>\n",
              "      <th>frec_thalach</th>\n",
              "      <th>frec_rel_%</th>\n",
              "      <th>frec_rel_%_acum</th>\n",
              "    </tr>\n",
              "  </thead>\n",
              "  <tbody>\n",
              "    <tr>\n",
              "      <th>162</th>\n",
              "      <td>11</td>\n",
              "      <td>3.630363</td>\n",
              "      <td>3.630363</td>\n",
              "    </tr>\n",
              "    <tr>\n",
              "      <th>160</th>\n",
              "      <td>9</td>\n",
              "      <td>2.970297</td>\n",
              "      <td>6.600660</td>\n",
              "    </tr>\n",
              "    <tr>\n",
              "      <th>163</th>\n",
              "      <td>9</td>\n",
              "      <td>2.970297</td>\n",
              "      <td>9.570957</td>\n",
              "    </tr>\n",
              "    <tr>\n",
              "      <th>173</th>\n",
              "      <td>8</td>\n",
              "      <td>2.640264</td>\n",
              "      <td>12.211221</td>\n",
              "    </tr>\n",
              "    <tr>\n",
              "      <th>152</th>\n",
              "      <td>8</td>\n",
              "      <td>2.640264</td>\n",
              "      <td>14.851485</td>\n",
              "    </tr>\n",
              "  </tbody>\n",
              "</table>\n",
              "</div>"
            ],
            "text/plain": [
              "     frec_thalach  frec_rel_%  frec_rel_%_acum\n",
              "162            11    3.630363         3.630363\n",
              "160             9    2.970297         6.600660\n",
              "163             9    2.970297         9.570957\n",
              "173             8    2.640264        12.211221\n",
              "152             8    2.640264        14.851485"
            ]
          },
          "metadata": {},
          "execution_count": 245
        }
      ]
    },
    {
      "cell_type": "code",
      "metadata": {
        "id": "aEAvm_wdBwJJ",
        "colab": {
          "base_uri": "https://localhost:8080/",
          "height": 292
        },
        "outputId": "f898c828-f054-4d1f-be90-e3360f7799b7"
      },
      "source": [
        "#Creacion de diagrama de pareto\n",
        "fig = plt.figure();\n",
        "ax = fig.add_subplot(1,1,1)\n",
        "ax.set_title(\"trestbps\")\n",
        "ax.bar(frec_frame.index, frec_frame[\"frec_trestbps\"], color=\"C0\")\n",
        "ax.tick_params(axis=\"y\", color=\"C0\")\n",
        "ax.set_xticklabels(frec_frame.index, rotation=75)\n",
        "plt.show()"
      ],
      "execution_count": 246,
      "outputs": [
        {
          "output_type": "display_data",
          "data": {
            "image/png": "[encoded data removed]",
            "text/plain": [
              "<Figure size 432x288 with 1 Axes>"
            ]
          },
          "metadata": {
            "needs_background": "light"
          }
        }
      ]
    },
    {
      "cell_type": "code",
      "metadata": {
        "id": "EkDTX26KIWiV",
        "colab": {
          "base_uri": "https://localhost:8080/",
          "height": 292
        },
        "outputId": "47976a96-3942-4e84-d120-6b050c745f0d"
      },
      "source": [
        "fig = plt.figure();\n",
        "ax = fig.add_subplot(1,1,1)\n",
        "ax.set_title(\"thalach\")\n",
        "ax.bar(frec_frame_thalach.index, frec_frame_thalach[\"frec_thalach\"], color=\"C0\")\n",
        "ax.tick_params(axis=\"y\", color=\"C0\")\n",
        "ax.set_xticklabels(frec_frame_thalach.index, rotation=75)\n",
        "plt.show()"
      ],
      "execution_count": 247,
      "outputs": [
        {
          "output_type": "display_data",
          "data": {
            "image/png": "[encoded data removed]",
            "text/plain": [
              "<Figure size 432x288 with 1 Axes>"
            ]
          },
          "metadata": {
            "needs_background": "light"
          }
        }
      ]
    },
    {
      "cell_type": "code",
      "metadata": {
        "id": "2MAIwiEZ4F4o"
      },
      "source": [
        "#Se realiza separacion de datos\n",
        "X_train, X_test, y_train, y_test = train_test_split(X, y, test_size = 0.25, random_state = 4) \n",
        "\n",
        "scaler = StandardScaler()\n",
        "\n",
        "X_train = scaler.fit_transform(X_train)\n",
        "X_test = scaler.transform(X_test)"
      ],
      "execution_count": 248,
      "outputs": []
    },
    {
      "cell_type": "code",
      "metadata": {
        "id": "ZvcgK26fJCrb"
      },
      "source": [
        "clf = SVC(kernel = 'rbf', probability = True)\n",
        "parameters = {'C' : np.logspace(-4,4,9), 'gamma' : np.logspace(-4,4,9)}"
      ],
      "execution_count": 249,
      "outputs": []
    },
    {
      "cell_type": "code",
      "metadata": {
        "colab": {
          "base_uri": "https://localhost:8080/"
        },
        "id": "CsMxDeZHJF8l",
        "outputId": "373eaaee-6134-4f99-a1c7-84d1574c23c2"
      },
      "source": [
        "#Validación cruzada para c y gamma\n",
        "Bayes_model = GaussianNB()\n",
        "\n",
        "SVM_model = GridSearchCV(clf, param_grid = parameters, cv = 5)\n",
        "\n",
        "SVM_model.fit(X_train, y_train)\n",
        "Bayes_model.fit(X_train, y_train)\n",
        "\n",
        "print('Mejores parámetros: ', SVM_model.best_params_)"
      ],
      "execution_count": 250,
      "outputs": [
        {
          "output_type": "stream",
          "name": "stdout",
          "text": [
            "Mejores parámetros:  {'C': 100.0, 'gamma': 0.001}\n"
          ]
        }
      ]
    },
    {
      "cell_type": "code",
      "metadata": {
        "id": "S593436XJRci"
      },
      "source": [
        "SVM_model = SVC (kernel = 'rbf', probability = True, C = SVM_model.best_params_['C'], gamma = SVM_model.best_params_['gamma'])\n",
        "\n",
        "SVM_model.fit(X_train, y_train)\n",
        "\n",
        "y_pred = SVM_model.predict(X_test)\n",
        "y_pred_bayes = Bayes_model.predict(X_test)"
      ],
      "execution_count": 251,
      "outputs": []
    },
    {
      "cell_type": "code",
      "metadata": {
        "colab": {
          "base_uri": "https://localhost:8080/",
          "height": 361
        },
        "id": "Kjkv-gs1JnSa",
        "outputId": "8547de2f-cf04-4a68-a85d-784b912e6f57"
      },
      "source": [
        " plt.figure(figsize = (15,5.5))\n",
        " fig = plt.subplot(1,2,1)\n",
        " plot_confusion_matrix(SVM_model, X_test, y_test, values_format = '.0f', cmap = 'Blues', ax = fig);\n",
        " fig = plt.subplot(1,2,2)\n",
        " plot_confusion_matrix(SVM_model, X_test, y_test, normalize = 'true', cmap = 'Greens', ax = fig);"
      ],
      "execution_count": 252,
      "outputs": [
        {
          "output_type": "display_data",
          "data": {
            "image/png": "[encoded data removed]",
            "text/plain": [
              "<Figure size 1080x396 with 4 Axes>"
            ]
          },
          "metadata": {
            "needs_background": "light"
          }
        }
      ]
    },
    {
      "cell_type": "code",
      "metadata": {
        "colab": {
          "base_uri": "https://localhost:8080/",
          "height": 361
        },
        "id": "xeq6PJEzYKfb",
        "outputId": "cb20c03f-5ea7-443e-dbd1-26738e07ed38"
      },
      "source": [
        " plt.figure(figsize = (15,5.5))\n",
        " fig = plt.subplot(1,2,1)\n",
        " plot_confusion_matrix(Bayes_model, X_test, y_test, values_format = '.0f', cmap = 'PuBu', ax = fig);\n",
        " fig = plt.subplot(1,2,2)\n",
        " plot_confusion_matrix(Bayes_model, X_test, y_test, normalize = 'true', cmap = 'gist_earth_r', ax = fig);"
      ],
      "execution_count": 253,
      "outputs": [
        {
          "output_type": "display_data",
          "data": {
            "image/png": "[encoded data removed]",
            "text/plain": [
              "<Figure size 1080x396 with 4 Axes>"
            ]
          },
          "metadata": {
            "needs_background": "light"
          }
        }
      ]
    },
    {
      "cell_type": "code",
      "metadata": {
        "colab": {
          "base_uri": "https://localhost:8080/"
        },
        "id": "sDqJo4QxJSY0",
        "outputId": "95505ff7-9e8b-4e4a-e8c2-3405367368f6"
      },
      "source": [
        "print('Accuracy en entrenamiento SVM: {:.2f}'.format(SVM_model.score(X_train, y_train)))\n",
        "print('Accuracy en test SVM: {:.2f}'.format(SVM_model.score(X_test, y_test)))\n",
        "print('')\n",
        "print('Accuracy en entrenamiento Naïve Bayes: {:.2f}'.format(Bayes_model.score(X_train, y_train)))\n",
        "print('Accuracy en test Naïve Bayes: {:.2f}'.format(Bayes_model.score(X_test, y_test)))"
      ],
      "execution_count": 254,
      "outputs": [
        {
          "output_type": "stream",
          "name": "stdout",
          "text": [
            "Accuracy en entrenamiento SVM: 0.88\n",
            "Accuracy en test SVM: 0.82\n",
            "\n",
            "Accuracy en entrenamiento Naïve Bayes: 0.85\n",
            "Accuracy en test Naïve Bayes: 0.78\n"
          ]
        }
      ]
    },
    {
      "cell_type": "code",
      "metadata": {
        "colab": {
          "base_uri": "https://localhost:8080/"
        },
        "id": "-clYPYkGXvhy",
        "outputId": "780ba9a1-760c-4610-c8bc-e47a90a1ec51"
      },
      "source": [
        "print(confusion_matrix(y_test, y_pred))\n",
        "print(classification_report(y_test, y_pred))"
      ],
      "execution_count": 256,
      "outputs": [
        {
          "output_type": "stream",
          "name": "stdout",
          "text": [
            "[[24  9]\n",
            " [ 5 38]]\n",
            "              precision    recall  f1-score   support\n",
            "\n",
            "           0       0.83      0.73      0.77        33\n",
            "           1       0.81      0.88      0.84        43\n",
            "\n",
            "    accuracy                           0.82        76\n",
            "   macro avg       0.82      0.81      0.81        76\n",
            "weighted avg       0.82      0.82      0.81        76\n",
            "\n"
          ]
        }
      ]
    },
    {
      "cell_type": "code",
      "metadata": {
        "colab": {
          "base_uri": "https://localhost:8080/"
        },
        "id": "Z2mpx5oyJWq2",
        "outputId": "5d903253-f166-45ca-a8ad-07b58c558b5b"
      },
      "source": [
        "print(confusion_matrix(y_test, y_pred_bayes))\n",
        "print(classification_report(y_test, y_pred_bayes))"
      ],
      "execution_count": 255,
      "outputs": [
        {
          "output_type": "stream",
          "name": "stdout",
          "text": [
            "[[22 11]\n",
            " [ 6 37]]\n",
            "              precision    recall  f1-score   support\n",
            "\n",
            "           0       0.79      0.67      0.72        33\n",
            "           1       0.77      0.86      0.81        43\n",
            "\n",
            "    accuracy                           0.78        76\n",
            "   macro avg       0.78      0.76      0.77        76\n",
            "weighted avg       0.78      0.78      0.77        76\n",
            "\n"
          ]
        }
      ]
    },
    {
      "cell_type": "code",
      "metadata": {
        "colab": {
          "base_uri": "https://localhost:8080/",
          "height": 485
        },
        "id": "caWYR1AjJsKN",
        "outputId": "4e71d6b8-ea18-46bc-9c7a-122c63a5fa6e"
      },
      "source": [
        "plt.figure(figsize = (8,8))\n",
        "y_pre_proba = SVM_model.predict_proba(X_test)[:,1]\n",
        "y_pre_bayes_proba = Bayes_model.predict_proba(X_test)[:,1]\n",
        "\n",
        "fpr, tpr, _ = roc_curve(y_test, y_pre_proba)\n",
        "fprBayes, tprBayes, _ = roc_curve(y_test, y_pre_bayes_proba)\n",
        "\n",
        "auc = roc_auc_score(y_test, y_pre_proba)\n",
        "aucBayes = roc_auc_score(y_test, y_pre_bayes_proba)\n",
        "\n",
        "plt.plot(fpr,tpr, label = 'AUC SVM: {:.5f}'.format(auc));\n",
        "plt.plot(fprBayes,tprBayes, label = 'AUC BAYES: {:.5f}'.format(aucBayes));\n",
        "\n",
        "plt.plot([0,1],[0,1], linestyle = '--', lw = 2, color = 'r', alpha = 0.8, label = 'Clasificador aleatorio.');\n",
        "\n",
        "plt.grid();\n",
        "plt.legend();\n",
        "plt.xlim([-0.005,1]);\n",
        "plt.ylim([0,1.005]);"
      ],
      "execution_count": 257,
      "outputs": [
        {
          "output_type": "display_data",
          "data": {
            "image/png": "[encoded data removed]",
            "text/plain": [
              "<Figure size 576x576 with 1 Axes>"
            ]
          },
          "metadata": {
            "needs_background": "light"
          }
        }
      ]
    }
  ]
}