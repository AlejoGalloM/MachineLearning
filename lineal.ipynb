{
  "nbformat": 4,
  "nbformat_minor": 0,
  "metadata": {
    "colab": {
      "name": "lineal.ipynb",
      "provenance": [],
      "authorship_tag": "ABX9TyP9nPqnkTQ572JaU2tO7VuZ",
      "include_colab_link": true
    },
    "kernelspec": {
      "name": "python3",
      "display_name": "Python 3"
    },
    "language_info": {
      "name": "python"
    }
  },
  "cells": [
    {
      "cell_type": "markdown",
      "metadata": {
        "id": "view-in-github",
        "colab_type": "text"
      },
      "source": [
        "<a href=\"https://colab.research.google.com/github/AlejoGalloM/MachineLearning/blob/master/lineal.ipynb\" target=\"_parent\"><img src=\"https://colab.research.google.com/assets/colab-badge.svg\" alt=\"Open In Colab\"/></a>"
      ]
    },
    {
      "cell_type": "code",
      "metadata": {
        "id": "9AFe49cqWCSb"
      },
      "source": [
        "import numpy as np"
      ],
      "execution_count": 1,
      "outputs": []
    },
    {
      "cell_type": "code",
      "metadata": {
        "colab": {
          "base_uri": "https://localhost:8080/"
        },
        "id": "gmeykhJmWIw3",
        "outputId": "8d840351-e7b1-4443-f29d-30b523961ff1"
      },
      "source": [
        "A=np.array([[2,-3,0],[2,-5,0],[0,0,3]])\n",
        "print(A)"
      ],
      "execution_count": 3,
      "outputs": [
        {
          "output_type": "stream",
          "name": "stdout",
          "text": [
            "[[ 2 -3  0]\n",
            " [ 2 -5  0]\n",
            " [ 0  0  3]]\n"
          ]
        }
      ]
    },
    {
      "cell_type": "code",
      "metadata": {
        "colab": {
          "base_uri": "https://localhost:8080/"
        },
        "id": "PUQbvcfoWguL",
        "outputId": "e965b0a7-7a90-4d02-847e-c97b72eed1e2"
      },
      "source": [
        "print(np.linalg.eig(A))"
      ],
      "execution_count": 4,
      "outputs": [
        {
          "output_type": "stream",
          "name": "stdout",
          "text": [
            "(array([ 1., -4.,  3.]), array([[0.9486833 , 0.4472136 , 0.        ],\n",
            "       [0.31622777, 0.89442719, 0.        ],\n",
            "       [0.        , 0.        , 1.        ]]))\n"
          ]
        }
      ]
    },
    {
      "cell_type": "code",
      "metadata": {
        "colab": {
          "base_uri": "https://localhost:8080/"
        },
        "id": "OxhYdf43XUaL",
        "outputId": "6becbe53-8eab-4992-dfd9-20d212f233df"
      },
      "source": [
        "X=np.array([[2,4,2,3,1],[1,5,6,3,4],[4,3,2,1,4],[6,5,10,2,1],[3,4,5,1,2]])\n",
        "print(X)"
      ],
      "execution_count": 7,
      "outputs": [
        {
          "output_type": "stream",
          "name": "stdout",
          "text": [
            "[[ 2  4  2  3  1]\n",
            " [ 1  5  6  3  4]\n",
            " [ 4  3  2  1  4]\n",
            " [ 6  5 10  2  1]\n",
            " [ 3  4  5  1  2]]\n"
          ]
        }
      ]
    },
    {
      "cell_type": "code",
      "metadata": {
        "colab": {
          "base_uri": "https://localhost:8080/"
        },
        "id": "gwy2S6wkXcPN",
        "outputId": "d216ed66-cf77-46bc-9475-769b0713c7fa"
      },
      "source": [
        "U=np.mean(X,axis=0)\n",
        "print(U)"
      ],
      "execution_count": 8,
      "outputs": [
        {
          "output_type": "stream",
          "name": "stdout",
          "text": [
            "[3.2 4.2 5.  2.  2.4]\n"
          ]
        }
      ]
    },
    {
      "cell_type": "code",
      "metadata": {
        "colab": {
          "base_uri": "https://localhost:8080/"
        },
        "id": "zfo3or2dYb6l",
        "outputId": "796f325e-3d15-42db-bae4-fe4dd3d9030a"
      },
      "source": [
        "sigma = np.std(X,axis=0)\n",
        "print(sigma)"
      ],
      "execution_count": 9,
      "outputs": [
        {
          "output_type": "stream",
          "name": "stdout",
          "text": [
            "[1.72046505 0.74833148 2.96647939 0.89442719 1.356466  ]\n"
          ]
        }
      ]
    },
    {
      "cell_type": "code",
      "metadata": {
        "colab": {
          "base_uri": "https://localhost:8080/"
        },
        "id": "b9kUnTDZYr3p",
        "outputId": "d1dfc9f7-a97e-412d-c5b6-ed85e7d5bd91"
      },
      "source": [
        "xz = (X-U)/sigma\n",
        "print(xz)"
      ],
      "execution_count": 10,
      "outputs": [
        {
          "output_type": "stream",
          "name": "stdout",
          "text": [
            "[[-0.69748583 -0.26726124 -1.01129979  1.11803399 -1.03209369]\n",
            " [-1.27872403  1.06904497  0.33709993  1.11803399  1.17953565]\n",
            " [ 0.46499055 -1.60356745 -1.01129979 -1.11803399  1.17953565]\n",
            " [ 1.62746694  1.06904497  1.68549966  0.         -1.03209369]\n",
            " [-0.11624764 -0.26726124  0.         -1.11803399 -0.29488391]]\n"
          ]
        }
      ]
    },
    {
      "cell_type": "code",
      "metadata": {
        "colab": {
          "base_uri": "https://localhost:8080/"
        },
        "id": "8gmsD6YjY0zz",
        "outputId": "fcd6ee37-3e54-4bba-cd36-17ebbe025df5"
      },
      "source": [
        "Mcov = np.cov(xz)\n",
        "print(Mcov)"
      ],
      "execution_count": 12,
      "outputs": [
        {
          "output_type": "stream",
          "name": "stdout",
          "text": [
            "[[ 0.79533979  0.30364383 -0.5324668  -0.19845928 -0.36805753]\n",
            " [ 0.30364383  1.0892043  -0.37390678 -0.80303431 -0.21590704]\n",
            " [-0.5324668  -0.37390678  1.39485359 -0.62007219  0.13159218]\n",
            " [-0.19845928 -0.80303431 -0.62007219  1.36331058  0.2582552 ]\n",
            " [-0.36805753 -0.21590704  0.13159218  0.2582552   0.19411719]]\n"
          ]
        }
      ]
    },
    {
      "cell_type": "code",
      "metadata": {
        "colab": {
          "base_uri": "https://localhost:8080/"
        },
        "id": "9EwS7v_xapJT",
        "outputId": "80d0ca81-97a7-4287-eaf4-ba9f0e525dce"
      },
      "source": [
        "l = np.linalg.eigvals(Mcov)\n",
        "print(l)\n",
        "lord = np.argsort(l)\n",
        "print(lord)"
      ],
      "execution_count": 13,
      "outputs": [
        {
          "output_type": "stream",
          "name": "stdout",
          "text": [
            "[2.22322468e+00 2.01614545e+00 5.94970828e-01 5.64055247e-17\n",
            " 2.48448413e-03]\n",
            "[3 4 2 1 0]\n"
          ]
        }
      ]
    },
    {
      "cell_type": "code",
      "metadata": {
        "colab": {
          "base_uri": "https://localhost:8080/"
        },
        "id": "-61sxOr4amev",
        "outputId": "baba5aa5-4762-47f4-fc2b-2405b73392cc"
      },
      "source": [
        "l = np.flipud(np.sort(l))\n",
        "print(l)\n",
        "lord = np.flipud(lord)\n",
        "print(lord)"
      ],
      "execution_count": 14,
      "outputs": [
        {
          "output_type": "stream",
          "name": "stdout",
          "text": [
            "[2.22322468e+00 2.01614545e+00 5.94970828e-01 2.48448413e-03\n",
            " 5.64055247e-17]\n",
            "[0 1 2 4 3]\n"
          ]
        }
      ]
    },
    {
      "cell_type": "code",
      "metadata": {
        "colab": {
          "base_uri": "https://localhost:8080/"
        },
        "id": "guQUwSXVeKcI",
        "outputId": "d7a40f7d-c13e-4d02-9ce2-cd229a951d4a"
      },
      "source": [
        "lsum=l/np.sum(l)\n",
        "print(lsum)"
      ],
      "execution_count": 17,
      "outputs": [
        {
          "output_type": "stream",
          "name": "stdout",
          "text": [
            "[4.59645424e-01 4.16832378e-01 1.23008538e-01 5.13660078e-04\n",
            " 1.16616829e-17]\n"
          ]
        }
      ]
    },
    {
      "cell_type": "code",
      "metadata": {
        "colab": {
          "base_uri": "https://localhost:8080/"
        },
        "id": "ygaOyycbeP9G",
        "outputId": "b1755056-506a-4ff2-c931-61fcf716ce1d"
      },
      "source": [
        "print(np.cumsum(lsum))"
      ],
      "execution_count": 16,
      "outputs": [
        {
          "output_type": "stream",
          "name": "stdout",
          "text": [
            "[2.22322468 4.23937014 4.83434096 4.83682545 4.83682545]\n"
          ]
        }
      ]
    },
    {
      "cell_type": "code",
      "metadata": {
        "colab": {
          "base_uri": "https://localhost:8080/"
        },
        "id": "8ERcgiCfe67Q",
        "outputId": "550872f4-9760-497f-e5a2-8440082f3fc6"
      },
      "source": [
        "leingvals= np.linalg.eig(Mcov)\n",
        "print(leingvals)"
      ],
      "execution_count": 20,
      "outputs": [
        {
          "output_type": "stream",
          "name": "stdout",
          "text": [
            "(array([2.22322468e+00, 2.01614545e+00, 5.94970828e-01, 5.64055247e-17,\n",
            "       2.48448413e-03]), array([[-0.24117575, -0.41749763,  0.72705255, -0.4472136 ,  0.19729312],\n",
            "       [-0.59126357, -0.2618256 , -0.54008054, -0.4472136 , -0.30027945],\n",
            "       [-0.09967031,  0.81538434,  0.23246894, -0.4472136 , -0.26678156],\n",
            "       [ 0.73798614, -0.27178917, -0.07242437, -0.4472136 , -0.41983546],\n",
            "       [ 0.1941235 ,  0.13572807, -0.34701657, -0.4472136 ,  0.78960336]]))\n"
          ]
        }
      ]
    },
    {
      "cell_type": "code",
      "metadata": {
        "colab": {
          "base_uri": "https://localhost:8080/"
        },
        "id": "SyFkVtjjfODb",
        "outputId": "09d9c087-9d71-4261-c2dc-54b82ea36fbd"
      },
      "source": [
        "W=leingvals[1]\n",
        "W=W[:,lord[:3]]\n",
        "print(W)"
      ],
      "execution_count": 21,
      "outputs": [
        {
          "output_type": "stream",
          "name": "stdout",
          "text": [
            "[[-0.24117575 -0.41749763  0.72705255]\n",
            " [-0.59126357 -0.2618256  -0.54008054]\n",
            " [-0.09967031  0.81538434  0.23246894]\n",
            " [ 0.73798614 -0.27178917 -0.07242437]\n",
            " [ 0.1941235   0.13572807 -0.34701657]]\n"
          ]
        }
      ]
    },
    {
      "cell_type": "code",
      "metadata": {
        "colab": {
          "base_uri": "https://localhost:8080/"
        },
        "id": "oIwnpDoefujT",
        "outputId": "566acbcc-6512-459b-b4dc-b24a1220e3fb"
      },
      "source": [
        "z = np.dot(xz, W)\n",
        "print(z)"
      ],
      "execution_count": 22,
      "outputs": [
        {
          "output_type": "stream",
          "name": "stdout",
          "text": [
            "[[ 1.05177502 -0.90737711 -0.32068134]\n",
            " [ 0.6967802   0.38505347 -1.91899601]\n",
            " [ 0.34066513 -0.13490983  0.64068685]\n",
            " [-1.39294082  0.27487901  1.35586353]\n",
            " [-0.69627954  0.38235446  0.24312697]]\n"
          ]
        }
      ]
    }
  ]
}