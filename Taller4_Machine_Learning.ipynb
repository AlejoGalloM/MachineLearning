{
  "nbformat": 4,
  "nbformat_minor": 0,
  "metadata": {
    "colab": {
      "name": "Taller4_Machine_Learning.ipynb",
      "provenance": [],
      "collapsed_sections": [],
      "include_colab_link": true
    },
    "kernelspec": {
      "name": "python3",
      "display_name": "Python 3"
    },
    "language_info": {
      "name": "python"
    }
  },
  "cells": [
    {
      "cell_type": "markdown",
      "metadata": {
        "id": "view-in-github",
        "colab_type": "text"
      },
      "source": [
        "<a href=\"https://colab.research.google.com/github/AlejoGalloM/MachineLearning/blob/master/Taller4_Machine_Learning.ipynb\" target=\"_parent\"><img src=\"https://colab.research.google.com/assets/colab-badge.svg\" alt=\"Open In Colab\"/></a>"
      ]
    },
    {
      "cell_type": "markdown",
      "metadata": {
        "id": "-LVSG2XkPshx"
      },
      "source": [
        "#Taller 4\n",
        "## *Integrantes*\n",
        "\n",
        "*   Alejandro Cifuentes Montoya\n",
        "*   Alejandro Gallo Murillo\n",
        "\n",
        "En este artículo se presenta la solución del taller 4 en el que se muestra los pasos realizados para el método kmeans que vimos en clase de machine learning y que por medio de esta implementación afianzamos los conceptos aprendidos."
      ]
    },
    {
      "cell_type": "markdown",
      "metadata": {
        "id": "omRlPRLfP3nY"
      },
      "source": [
        "##Librerias importadas para la realización del taller"
      ]
    },
    {
      "cell_type": "code",
      "metadata": {
        "id": "3B6YCFzOV_Wm"
      },
      "source": [
        "\n",
        "import pandas as pd\n",
        "import numpy as np\n",
        "import random as rd\n",
        "import matplotlib.pyplot as plt\n"
      ],
      "execution_count": null,
      "outputs": []
    },
    {
      "cell_type": "markdown",
      "metadata": {
        "id": "LqXTcbCEdVgq"
      },
      "source": [
        "##Punto 1\n",
        "Función para calcular la distancia euclidiana"
      ]
    },
    {
      "cell_type": "code",
      "metadata": {
        "id": "0itmPbp2dWXY"
      },
      "source": [
        "def distance(p1, p2):\n",
        "    return np.sum((p1 - p2)**2)"
      ],
      "execution_count": null,
      "outputs": []
    },
    {
      "cell_type": "markdown",
      "metadata": {
        "id": "V_eVlwwbWiQt"
      },
      "source": [
        "##Punto 2\n"
      ]
    },
    {
      "cell_type": "markdown",
      "metadata": {
        "id": "7-kivZmcQoiT"
      },
      "source": [
        "Se importan datos genéricos tomados de [kaggle](https://www.kaggle.com/).\n",
        "Este bloque de código se ejecuta estando en drive"
      ]
    },
    {
      "cell_type": "code",
      "metadata": {
        "colab": {
          "base_uri": "https://localhost:8080/"
        },
        "id": "ROzWAQNgQvZM",
        "outputId": "0841b2fd-25b7-4758-ced3-e3c1f46ce682"
      },
      "source": [
        "data = pd.read_csv(\"./drive/MyDrive/500_Person_Gender_Height_Weight_Index.csv\")\n",
        "data.shape"
      ],
      "execution_count": null,
      "outputs": [
        {
          "output_type": "execute_result",
          "data": {
            "text/plain": [
              "(500, 4)"
            ]
          },
          "metadata": {},
          "execution_count": 6
        }
      ]
    },
    {
      "cell_type": "code",
      "metadata": {
        "colab": {
          "base_uri": "https://localhost:8080/"
        },
        "id": "m0g-0LY0XpuB",
        "outputId": "842aff80-8bef-4305-e115-cf54e1b923b4"
      },
      "source": [
        "from google.colab import drive\n",
        "drive.mount('/content/drive')"
      ],
      "execution_count": null,
      "outputs": [
        {
          "output_type": "stream",
          "name": "stdout",
          "text": [
            "Mounted at /content/drive\n"
          ]
        }
      ]
    },
    {
      "cell_type": "markdown",
      "metadata": {
        "id": "Njnq5K6wRNhr"
      },
      "source": [
        "Se importan los datos. Este bloque de código se ejecuta estando en ambiente local teniendo el archivo **'500_Person_Gender_Height_Weight_Index.csv'**"
      ]
    },
    {
      "cell_type": "code",
      "metadata": {
        "colab": {
          "base_uri": "https://localhost:8080/",
          "height": 391
        },
        "id": "XK_AlWxKR2lX",
        "outputId": "e1ed8930-ffbe-4c90-aa08-2b69568a0eb5"
      },
      "source": [
        "data = pd.read_csv(\"./500_Person_Gender_Height_Weight_Index.csv\")\n",
        "data.shape"
      ],
      "execution_count": null,
      "outputs": [
        {
          "output_type": "error",
          "ename": "FileNotFoundError",
          "evalue": "ignored",
          "traceback": [
            "\u001b[0;31m---------------------------------------------------------------------------\u001b[0m",
            "\u001b[0;31mFileNotFoundError\u001b[0m                         Traceback (most recent call last)",
            "\u001b[0;32m<ipython-input-7-2adb2c78cd2e>\u001b[0m in \u001b[0;36m<module>\u001b[0;34m()\u001b[0m\n\u001b[0;32m----> 1\u001b[0;31m \u001b[0mdata\u001b[0m \u001b[0;34m=\u001b[0m \u001b[0mpd\u001b[0m\u001b[0;34m.\u001b[0m\u001b[0mread_csv\u001b[0m\u001b[0;34m(\u001b[0m\u001b[0;34m\"./500_Person_Gender_Height_Weight_Index.csv\"\u001b[0m\u001b[0;34m)\u001b[0m\u001b[0;34m\u001b[0m\u001b[0;34m\u001b[0m\u001b[0m\n\u001b[0m\u001b[1;32m      2\u001b[0m \u001b[0mdata\u001b[0m\u001b[0;34m.\u001b[0m\u001b[0mshape\u001b[0m\u001b[0;34m\u001b[0m\u001b[0;34m\u001b[0m\u001b[0m\n",
            "\u001b[0;32m/usr/local/lib/python3.7/dist-packages/pandas/io/parsers.py\u001b[0m in \u001b[0;36mread_csv\u001b[0;34m(filepath_or_buffer, sep, delimiter, header, names, index_col, usecols, squeeze, prefix, mangle_dupe_cols, dtype, engine, converters, true_values, false_values, skipinitialspace, skiprows, skipfooter, nrows, na_values, keep_default_na, na_filter, verbose, skip_blank_lines, parse_dates, infer_datetime_format, keep_date_col, date_parser, dayfirst, cache_dates, iterator, chunksize, compression, thousands, decimal, lineterminator, quotechar, quoting, doublequote, escapechar, comment, encoding, dialect, error_bad_lines, warn_bad_lines, delim_whitespace, low_memory, memory_map, float_precision)\u001b[0m\n\u001b[1;32m    686\u001b[0m     )\n\u001b[1;32m    687\u001b[0m \u001b[0;34m\u001b[0m\u001b[0m\n\u001b[0;32m--> 688\u001b[0;31m     \u001b[0;32mreturn\u001b[0m \u001b[0m_read\u001b[0m\u001b[0;34m(\u001b[0m\u001b[0mfilepath_or_buffer\u001b[0m\u001b[0;34m,\u001b[0m \u001b[0mkwds\u001b[0m\u001b[0;34m)\u001b[0m\u001b[0;34m\u001b[0m\u001b[0;34m\u001b[0m\u001b[0m\n\u001b[0m\u001b[1;32m    689\u001b[0m \u001b[0;34m\u001b[0m\u001b[0m\n\u001b[1;32m    690\u001b[0m \u001b[0;34m\u001b[0m\u001b[0m\n",
            "\u001b[0;32m/usr/local/lib/python3.7/dist-packages/pandas/io/parsers.py\u001b[0m in \u001b[0;36m_read\u001b[0;34m(filepath_or_buffer, kwds)\u001b[0m\n\u001b[1;32m    452\u001b[0m \u001b[0;34m\u001b[0m\u001b[0m\n\u001b[1;32m    453\u001b[0m     \u001b[0;31m# Create the parser.\u001b[0m\u001b[0;34m\u001b[0m\u001b[0;34m\u001b[0m\u001b[0;34m\u001b[0m\u001b[0m\n\u001b[0;32m--> 454\u001b[0;31m     \u001b[0mparser\u001b[0m \u001b[0;34m=\u001b[0m \u001b[0mTextFileReader\u001b[0m\u001b[0;34m(\u001b[0m\u001b[0mfp_or_buf\u001b[0m\u001b[0;34m,\u001b[0m \u001b[0;34m**\u001b[0m\u001b[0mkwds\u001b[0m\u001b[0;34m)\u001b[0m\u001b[0;34m\u001b[0m\u001b[0;34m\u001b[0m\u001b[0m\n\u001b[0m\u001b[1;32m    455\u001b[0m \u001b[0;34m\u001b[0m\u001b[0m\n\u001b[1;32m    456\u001b[0m     \u001b[0;32mif\u001b[0m \u001b[0mchunksize\u001b[0m \u001b[0;32mor\u001b[0m \u001b[0miterator\u001b[0m\u001b[0;34m:\u001b[0m\u001b[0;34m\u001b[0m\u001b[0;34m\u001b[0m\u001b[0m\n",
            "\u001b[0;32m/usr/local/lib/python3.7/dist-packages/pandas/io/parsers.py\u001b[0m in \u001b[0;36m__init__\u001b[0;34m(self, f, engine, **kwds)\u001b[0m\n\u001b[1;32m    946\u001b[0m             \u001b[0mself\u001b[0m\u001b[0;34m.\u001b[0m\u001b[0moptions\u001b[0m\u001b[0;34m[\u001b[0m\u001b[0;34m\"has_index_names\"\u001b[0m\u001b[0;34m]\u001b[0m \u001b[0;34m=\u001b[0m \u001b[0mkwds\u001b[0m\u001b[0;34m[\u001b[0m\u001b[0;34m\"has_index_names\"\u001b[0m\u001b[0;34m]\u001b[0m\u001b[0;34m\u001b[0m\u001b[0;34m\u001b[0m\u001b[0m\n\u001b[1;32m    947\u001b[0m \u001b[0;34m\u001b[0m\u001b[0m\n\u001b[0;32m--> 948\u001b[0;31m         \u001b[0mself\u001b[0m\u001b[0;34m.\u001b[0m\u001b[0m_make_engine\u001b[0m\u001b[0;34m(\u001b[0m\u001b[0mself\u001b[0m\u001b[0;34m.\u001b[0m\u001b[0mengine\u001b[0m\u001b[0;34m)\u001b[0m\u001b[0;34m\u001b[0m\u001b[0;34m\u001b[0m\u001b[0m\n\u001b[0m\u001b[1;32m    949\u001b[0m \u001b[0;34m\u001b[0m\u001b[0m\n\u001b[1;32m    950\u001b[0m     \u001b[0;32mdef\u001b[0m \u001b[0mclose\u001b[0m\u001b[0;34m(\u001b[0m\u001b[0mself\u001b[0m\u001b[0;34m)\u001b[0m\u001b[0;34m:\u001b[0m\u001b[0;34m\u001b[0m\u001b[0;34m\u001b[0m\u001b[0m\n",
            "\u001b[0;32m/usr/local/lib/python3.7/dist-packages/pandas/io/parsers.py\u001b[0m in \u001b[0;36m_make_engine\u001b[0;34m(self, engine)\u001b[0m\n\u001b[1;32m   1178\u001b[0m     \u001b[0;32mdef\u001b[0m \u001b[0m_make_engine\u001b[0m\u001b[0;34m(\u001b[0m\u001b[0mself\u001b[0m\u001b[0;34m,\u001b[0m \u001b[0mengine\u001b[0m\u001b[0;34m=\u001b[0m\u001b[0;34m\"c\"\u001b[0m\u001b[0;34m)\u001b[0m\u001b[0;34m:\u001b[0m\u001b[0;34m\u001b[0m\u001b[0;34m\u001b[0m\u001b[0m\n\u001b[1;32m   1179\u001b[0m         \u001b[0;32mif\u001b[0m \u001b[0mengine\u001b[0m \u001b[0;34m==\u001b[0m \u001b[0;34m\"c\"\u001b[0m\u001b[0;34m:\u001b[0m\u001b[0;34m\u001b[0m\u001b[0;34m\u001b[0m\u001b[0m\n\u001b[0;32m-> 1180\u001b[0;31m             \u001b[0mself\u001b[0m\u001b[0;34m.\u001b[0m\u001b[0m_engine\u001b[0m \u001b[0;34m=\u001b[0m \u001b[0mCParserWrapper\u001b[0m\u001b[0;34m(\u001b[0m\u001b[0mself\u001b[0m\u001b[0;34m.\u001b[0m\u001b[0mf\u001b[0m\u001b[0;34m,\u001b[0m \u001b[0;34m**\u001b[0m\u001b[0mself\u001b[0m\u001b[0;34m.\u001b[0m\u001b[0moptions\u001b[0m\u001b[0;34m)\u001b[0m\u001b[0;34m\u001b[0m\u001b[0;34m\u001b[0m\u001b[0m\n\u001b[0m\u001b[1;32m   1181\u001b[0m         \u001b[0;32melse\u001b[0m\u001b[0;34m:\u001b[0m\u001b[0;34m\u001b[0m\u001b[0;34m\u001b[0m\u001b[0m\n\u001b[1;32m   1182\u001b[0m             \u001b[0;32mif\u001b[0m \u001b[0mengine\u001b[0m \u001b[0;34m==\u001b[0m \u001b[0;34m\"python\"\u001b[0m\u001b[0;34m:\u001b[0m\u001b[0;34m\u001b[0m\u001b[0;34m\u001b[0m\u001b[0m\n",
            "\u001b[0;32m/usr/local/lib/python3.7/dist-packages/pandas/io/parsers.py\u001b[0m in \u001b[0;36m__init__\u001b[0;34m(self, src, **kwds)\u001b[0m\n\u001b[1;32m   2008\u001b[0m         \u001b[0mkwds\u001b[0m\u001b[0;34m[\u001b[0m\u001b[0;34m\"usecols\"\u001b[0m\u001b[0;34m]\u001b[0m \u001b[0;34m=\u001b[0m \u001b[0mself\u001b[0m\u001b[0;34m.\u001b[0m\u001b[0musecols\u001b[0m\u001b[0;34m\u001b[0m\u001b[0;34m\u001b[0m\u001b[0m\n\u001b[1;32m   2009\u001b[0m \u001b[0;34m\u001b[0m\u001b[0m\n\u001b[0;32m-> 2010\u001b[0;31m         \u001b[0mself\u001b[0m\u001b[0;34m.\u001b[0m\u001b[0m_reader\u001b[0m \u001b[0;34m=\u001b[0m \u001b[0mparsers\u001b[0m\u001b[0;34m.\u001b[0m\u001b[0mTextReader\u001b[0m\u001b[0;34m(\u001b[0m\u001b[0msrc\u001b[0m\u001b[0;34m,\u001b[0m \u001b[0;34m**\u001b[0m\u001b[0mkwds\u001b[0m\u001b[0;34m)\u001b[0m\u001b[0;34m\u001b[0m\u001b[0;34m\u001b[0m\u001b[0m\n\u001b[0m\u001b[1;32m   2011\u001b[0m         \u001b[0mself\u001b[0m\u001b[0;34m.\u001b[0m\u001b[0munnamed_cols\u001b[0m \u001b[0;34m=\u001b[0m \u001b[0mself\u001b[0m\u001b[0;34m.\u001b[0m\u001b[0m_reader\u001b[0m\u001b[0;34m.\u001b[0m\u001b[0munnamed_cols\u001b[0m\u001b[0;34m\u001b[0m\u001b[0;34m\u001b[0m\u001b[0m\n\u001b[1;32m   2012\u001b[0m \u001b[0;34m\u001b[0m\u001b[0m\n",
            "\u001b[0;32mpandas/_libs/parsers.pyx\u001b[0m in \u001b[0;36mpandas._libs.parsers.TextReader.__cinit__\u001b[0;34m()\u001b[0m\n",
            "\u001b[0;32mpandas/_libs/parsers.pyx\u001b[0m in \u001b[0;36mpandas._libs.parsers.TextReader._setup_parser_source\u001b[0;34m()\u001b[0m\n",
            "\u001b[0;31mFileNotFoundError\u001b[0m: [Errno 2] No such file or directory: './500_Person_Gender_Height_Weight_Index.csv'"
          ]
        }
      ]
    },
    {
      "cell_type": "markdown",
      "metadata": {
        "id": "NZ2gA6SwS0iv"
      },
      "source": [
        "Esta función se encarga de retornar centroides de manera aleatoria para poder trabajar el método"
      ]
    },
    {
      "cell_type": "code",
      "metadata": {
        "id": "J8QdZYk7WG4N"
      },
      "source": [
        "def get_random_centroids(data, k = 3):\n",
        "    \n",
        "    #Retorna ejemplos random para el dataset\n",
        "    cent = (X.sample(n = k))\n",
        "    return cent"
      ],
      "execution_count": null,
      "outputs": []
    },
    {
      "cell_type": "markdown",
      "metadata": {
        "id": "lPyvkVtpS8Fz"
      },
      "source": [
        "La siguiente función se encarga de iterar sobre cada punto del centroide para calcular la distancia de este con respecto a los otros puntos y los cuarda en una lista llamada ED para luego almacenarlo en un vector de listas. Luego empieza a validar las distancias y las va almacenando en los diferentes cluster de acuerdo al valor de las distancias con respecto a los centroides, los ubica en el cluster del centroide específico."
      ]
    },
    {
      "cell_type": "code",
      "metadata": {
        "id": "7id4vvDxWR20"
      },
      "source": [
        "def k_means_fit(X,centroids, n = 5):\n",
        "    X_data = X\n",
        "    diff = 1\n",
        "    j=0\n",
        "\n",
        "    while(diff!=0.0):\n",
        "        i=1\n",
        "\n",
        "        #iterate over each centroid point \n",
        "        for index1,row_c in centroids.iterrows():\n",
        "            ED=[]\n",
        "\n",
        "            #iterate over each data point\n",
        "            for index2,row_d in X_data.iterrows():\n",
        "\n",
        "                #calculate distance between current point and centroid\n",
        "                d1=(row_c[\"Height\"]-row_d[\"Height\"])**2\n",
        "                d2=(row_c[\"Weight\"]-row_d[\"Weight\"])**2\n",
        "                d=np.sqrt(d1+d2)\n",
        "\n",
        "                #append distance in a list 'ED'\n",
        "                ED.append(d)\n",
        "\n",
        "            #append distace for a centroid in original data frame\n",
        "            X[i]=ED\n",
        "            i=i+1\n",
        "\n",
        "        C=[]\n",
        "        for index,row in  X.iterrows():\n",
        "\n",
        "            #get distance from centroid of current data point\n",
        "            min_dist=row[1]\n",
        "            pos=1\n",
        "\n",
        "            #loop to locate the closest centroid to current point\n",
        "            for i in range(n):\n",
        "\n",
        "                #if current distance is greater than that of other centroids\n",
        "                if row[i+1] < min_dist:\n",
        "\n",
        "                    #the smaller distanc becomes the minimum distance \n",
        "                    min_dist = row[i+1]\n",
        "                    pos=i+1\n",
        "            C.append(pos)\n",
        "\n",
        "        #assigning the closest cluster to each data point\n",
        "        X[\"Cluster\"]=C\n",
        "        \n",
        "\n",
        "        #grouping each cluster by their mean value to create new centroids\n",
        "        centroids_new = X.groupby([\"Cluster\"]).mean()[[\"Weight\",\"Height\"]]\n",
        "        if j == 0:\n",
        "            diff=1\n",
        "            j=j+1\n",
        "\n",
        "        else:\n",
        "            #check if there is a difference between old and new centroids\n",
        "            diff = (centroids_new['Weight'] - centroids['Weight']).sum() + (centroids_new['Height'] - centroids['Height']).sum()\n",
        "            print(diff.sum())\n",
        "            \n",
        "\n",
        "        centroids = X.groupby([\"Cluster\"]).mean()[[\"Weight\",\"Height\"]]\n",
        "        \n",
        "    return X, centroids"
      ],
      "execution_count": null,
      "outputs": []
    },
    {
      "cell_type": "markdown",
      "metadata": {
        "id": "02yGQXRyVLU-"
      },
      "source": [
        "En el siguiente fragmento de código se implementa el método de K-means y se grafica la distribución de puntos de acuerdo a los datos obtenidos."
      ]
    },
    {
      "cell_type": "code",
      "metadata": {
        "colab": {
          "base_uri": "https://localhost:8080/",
          "height": 704
        },
        "id": "rGxmE3P8o-ZA",
        "outputId": "f88dfb9b-9c21-4bdf-bc8a-b360e233469f"
      },
      "source": [
        "X = data\n",
        "centroids = get_random_centroids(X, k = 4)\n",
        "clustered, cent = k_means_fit(X,centroids, n= 4)\n",
        "plot()"
      ],
      "execution_count": null,
      "outputs": [
        {
          "output_type": "stream",
          "name": "stdout",
          "text": [
            "11.815896705525667\n",
            "7.371506846962916\n",
            "6.452335372514952\n",
            "3.92232035582294\n",
            "4.339185162914305\n",
            "4.433683520085928\n",
            "2.1244568561076633\n",
            "3.0161782554549106\n",
            "-0.938431900860607\n",
            "0.7594520055910436\n",
            "2.1576237243188814\n",
            "0.08124415531446516\n",
            "-1.3563299840461411\n",
            "-1.4111630912382367\n",
            "0.8523145493661843\n",
            "1.5123159513182571\n",
            "1.6365332838451536\n",
            "1.2404431973085508\n",
            "0.3969354305230013\n",
            "0.7929007279947768\n",
            "0.6299540606144376\n",
            "0.5716495468111162\n",
            "0.5603343464357806\n",
            "0.13185324014051503\n",
            "0.0\n"
          ]
        },
        {
          "output_type": "display_data",
          "data": {
            "image/png": "[encoded data removed]",
            "text/plain": [
              "<Figure size 432x288 with 1 Axes>"
            ]
          },
          "metadata": {
            "needs_background": "light"
          }
        }
      ]
    },
    {
      "cell_type": "markdown",
      "metadata": {
        "id": "JIIDrAM9YRDE"
      },
      "source": [
        "Se muestran los puntos que se obtuvieron de cada closter y los datos y cada una de sus clasificaciones por columna"
      ]
    },
    {
      "cell_type": "code",
      "metadata": {
        "colab": {
          "base_uri": "https://localhost:8080/"
        },
        "id": "Zj_8U8eGYZux",
        "outputId": "8baab063-6f9a-400b-8af9-a4149768ede8"
      },
      "source": [
        "print(clustered)\n",
        "print(cent)"
      ],
      "execution_count": null,
      "outputs": [
        {
          "output_type": "stream",
          "name": "stdout",
          "text": [
            "     Gender  Height  Weight  Index  ...          2          3          4  Cluster\n",
            "0      Male     174      96      4  ...  21.896322  15.624823  29.764123        3\n",
            "1      Male     189      87      2  ...  38.671035  22.252625  26.969638        3\n",
            "2    Female     185     110      4  ...  34.313473   2.218717  45.659522        3\n",
            "3    Female     195     104      3  ...  42.880623  12.501421  44.306856        3\n",
            "4      Male     149      61      3  ...  38.538242  58.633953  23.297597        4\n",
            "..      ...     ...     ...    ...  ...        ...        ...        ...      ...\n",
            "495  Female     150     153      5  ...  53.661461  55.589382  89.344062        1\n",
            "496  Female     184     121      4  ...  38.308646  12.495049  56.044379        3\n",
            "497  Female     141     136      5  ...  38.333542  50.479144  76.129551        1\n",
            "498    Male     150      95      5  ...   4.988559  35.982575  35.947496        2\n",
            "499    Male     173     131      5  ...  37.746897  24.744225  64.687069        1\n",
            "\n",
            "[500 rows x 9 columns]\n",
            "             Weight      Height\n",
            "Cluster                        \n",
            "1        144.480769  168.435897\n",
            "2         99.390805  152.367816\n",
            "3        108.522124  183.345133\n",
            "4         66.326389  171.680556\n"
          ]
        }
      ]
    },
    {
      "cell_type": "markdown",
      "metadata": {
        "id": "PZaMC6HaVa_f"
      },
      "source": [
        "Esta función se encarga de graficar los puntos y de acuerdo a estos se encarga de dividirlos en diferentes colores"
      ]
    },
    {
      "cell_type": "code",
      "metadata": {
        "id": "JtZk1OMLWdUn"
      },
      "source": [
        "def plot():\n",
        "  #setting color values for our \n",
        "  color=['brown','blue','green','cyan']\n",
        "\n",
        "  #plot data\n",
        "  for k in range(len(color)):\n",
        "      cluster=clustered[clustered[\"Cluster\"]==k+1]\n",
        "      plt.scatter(cluster[\"Height\"],cluster[\"Weight\"],c=color[k])\n",
        "\n",
        "  #plot centroids    \n",
        "  plt.scatter(cent[\"Height\"],cent[\"Weight\"],c='red')\n",
        "  plt.xlabel('label 1')\n",
        "  plt.ylabel('label 2')"
      ],
      "execution_count": null,
      "outputs": []
    },
    {
      "cell_type": "markdown",
      "metadata": {
        "id": "69c-kI9MV9-n"
      },
      "source": [
        "Esta es la implementación para el método de K-means++ el cual se encarga de realizar el proceso de manera más óptima."
      ]
    },
    {
      "cell_type": "code",
      "metadata": {
        "id": "DyIAWqiSWjdl"
      },
      "source": [
        "def get_kmeans_pp_centroids(X1,k = 5):\n",
        "    centroids = X1.sample()\n",
        "    print(centroids)\n",
        "    i = 1\n",
        "    dist = []\n",
        "    while i != k:\n",
        "        max_dist = [0,0]\n",
        "        #go through the centroids\n",
        "        for index, row in centroids.iterrows():\n",
        "            #calculate distance of every centroid with every other data point \n",
        "            d = np.sqrt((X1[\"Height\"] - row[\"Height\"])**2 +(X1[\"Weight\"] - row[\"Weight\"])**2)\n",
        "            #check which centroid has a max distance with another point\n",
        "            if max(d) > max(max_dist):\n",
        "                max_dist = d\n",
        "\n",
        "        X1 = pd.concat([X1, max_dist], axis = 1)\n",
        "        idx = X1.iloc[:,i+1].idxmax()\n",
        "        max_coor = pd.DataFrame(X1.iloc[idx][[\"Height\", \"Weight\"]]).T\n",
        "        centroids = pd.concat([centroids,max_coor])\n",
        "        X1 = X1.drop(idx)\n",
        "        i+=1\n",
        "    return centroids"
      ],
      "execution_count": null,
      "outputs": []
    },
    {
      "cell_type": "markdown",
      "metadata": {
        "id": "MvnMWU08WNLC"
      },
      "source": [
        "En el siguiente bloque de código se llama la función que implementa el método de K-means++ y luego grafica la distribución de los puntos"
      ]
    },
    {
      "cell_type": "code",
      "metadata": {
        "colab": {
          "base_uri": "https://localhost:8080/",
          "height": 483
        },
        "id": "UGXgP2I3Wpw4",
        "outputId": "cbf9275a-2a1b-469e-ca19-2a748a2a6174"
      },
      "source": [
        "X = data\n",
        "centroids = get_kmeans_pp_centroids(X, k = 4)\n",
        "clustered, cent = k_means_fit(X,centroids, n= 4)\n",
        "plot()"
      ],
      "execution_count": null,
      "outputs": [
        {
          "output_type": "stream",
          "name": "stdout",
          "text": [
            "    Gender  Height  Weight  Index  ...          2          3          4  Cluster\n",
            "16  Female     157     110      5  ...  36.327719  26.386552  46.074972        1\n",
            "\n",
            "[1 rows x 9 columns]\n",
            "-5.479312163687183\n",
            "-1.1930486075617637\n",
            "0.2229459802915983\n",
            "-0.40845675436877116\n",
            "-0.730741926741274\n",
            "0.5330873729077013\n",
            "0.8418679431278235\n",
            "0.0\n"
          ]
        },
        {
          "output_type": "display_data",
          "data": {
            "image/png": "[encoded data removed]",
            "text/plain": [
              "<Figure size 432x288 with 1 Axes>"
            ]
          },
          "metadata": {
            "needs_background": "light"
          }
        }
      ]
    },
    {
      "cell_type": "markdown",
      "metadata": {
        "id": "yaT5Jlc4ZXr4"
      },
      "source": [
        "Se muestran los puntos que se obtuvieron de cada closter y los datos y cada una de sus clasificaciones por columna"
      ]
    },
    {
      "cell_type": "code",
      "metadata": {
        "colab": {
          "base_uri": "https://localhost:8080/"
        },
        "id": "RarCpUjpZFOs",
        "outputId": "eebedf23-b0bf-4c2b-9aa8-b7a0f7825c13"
      },
      "source": [
        "print(clustered)\n",
        "print(cent)"
      ],
      "execution_count": null,
      "outputs": [
        {
          "output_type": "stream",
          "name": "stdout",
          "text": [
            "     Gender  Height  Weight  Index  ...          2          3          4  Cluster\n",
            "0      Male     174      96      4  ...  49.050115  19.603125  18.405167        4\n",
            "1      Male     189      87      2  ...  61.588069  35.841073  24.603126        4\n",
            "2    Female     185     110      4  ...  38.923237  33.506455   1.309122        4\n",
            "3    Female     195     104      3  ...  49.232131  41.314435  12.783696        4\n",
            "4      Male     149      61      3  ...  85.499486  35.760069  61.414576        1\n",
            "..      ...     ...     ...    ...  ...        ...        ...        ...      ...\n",
            "495  Female     150     153      5  ...  19.066758  56.820617  54.167629        2\n",
            "496  Female     184     121      4  ...  28.997387  38.519897   9.836166        4\n",
            "497  Female     141     136      5  ...  27.466654  41.853106  50.015317        2\n",
            "498    Male     150      95      5  ...  52.428464   4.602445  38.028520        3\n",
            "499    Male     173     131      5  ...  14.790655  39.326613  22.880027        2\n",
            "\n",
            "[500 rows x 9 columns]\n",
            "             Weight      Height\n",
            "Cluster                        \n",
            "1         65.824818  172.846715\n",
            "2        144.562092  167.098039\n",
            "3         96.350000  154.400000\n",
            "4        111.172727  184.418182\n"
          ]
        }
      ]
    },
    {
      "cell_type": "markdown",
      "metadata": {
        "id": "5pk2BcjLW1UA"
      },
      "source": [
        "\n",
        "##Punto 3\n",
        "Utilizando los datos de test de fashion_mnist aplicar PCA en scikit-learn tomando las dos primeras\n",
        "componentes principales y realizar un diagrama de dispersión pintando los puntos que pertenecen a una\n",
        "misma clase del mismo color. Tome los datos de test de fashion_mnist (sin aplicar PCA) aplique el\n",
        "método de K-Means++ que diseñó (10 grupos) y realice la misma gráfica de dispersión anteriormente\n",
        "propuesta, pintando los puntos de los colores de las etiquetas que arroja su algoritmo con las tres métricas\n",
        "de distancia (esto implica que debe mostrar 4 gráficas en total)."
      ]
    },
    {
      "cell_type": "markdown",
      "metadata": {
        "id": "PDVY62vGXQ-B"
      },
      "source": [
        "Se importa la base de datos para la implementación del ejercicio"
      ]
    },
    {
      "cell_type": "code",
      "metadata": {
        "colab": {
          "base_uri": "https://localhost:8080/"
        },
        "id": "oWW1lqbdXV5b",
        "outputId": "b68687eb-4281-4a84-e511-e248fd5246ae"
      },
      "source": [
        "from tensorflow.keras.datasets import fashion_mnist\n",
        "from random import randint\n",
        "\n",
        "(X_train, y_train),(X_test, y_test) = fashion_mnist.load_data();"
      ],
      "execution_count": null,
      "outputs": [
        {
          "output_type": "stream",
          "name": "stdout",
          "text": [
            "Downloading data from https://storage.googleapis.com/tensorflow/tf-keras-datasets/train-labels-idx1-ubyte.gz\n",
            "32768/29515 [=================================] - 0s 0us/step\n",
            "40960/29515 [=========================================] - 0s 0us/step\n",
            "Downloading data from https://storage.googleapis.com/tensorflow/tf-keras-datasets/train-images-idx3-ubyte.gz\n",
            "26427392/26421880 [==============================] - 0s 0us/step\n",
            "26435584/26421880 [==============================] - 0s 0us/step\n",
            "Downloading data from https://storage.googleapis.com/tensorflow/tf-keras-datasets/t10k-labels-idx1-ubyte.gz\n",
            "16384/5148 [===============================================================================================] - 0s 0us/step\n",
            "Downloading data from https://storage.googleapis.com/tensorflow/tf-keras-datasets/t10k-images-idx3-ubyte.gz\n",
            "4423680/4422102 [==============================] - 0s 0us/step\n",
            "4431872/4422102 [==============================] - 0s 0us/step\n"
          ]
        }
      ]
    },
    {
      "cell_type": "markdown",
      "metadata": {
        "id": "FoK8tYh2bbuw"
      },
      "source": [
        "Se implementa el método de K-means++ para cada una de las fotos de la base de datos y se imprime su distribución en las graficas."
      ]
    },
    {
      "cell_type": "code",
      "metadata": {
        "colab": {
          "base_uri": "https://localhost:8080/",
          "height": 1000
        },
        "id": "e2Mc_wObEmEV",
        "outputId": "4dddbd19-e60e-438d-9907-bb27a33b1a7b"
      },
      "source": [
        "class_names = ['T-shirt', 'Trouser', 'Pullover', 'Dress', 'Coat', 'Sandal', 'Shirt', 'Sneaker', 'Bag', 'Boot']\n",
        "plt.figure(figsize = (10,10))\n",
        "for i in range(10):\n",
        "  n = randint(0, X_train.shape[0]-1)\n",
        "  X = X_train[n].reshape(-1,2)\n",
        "  X = pd.DataFrame(X, columns=[\"Weight\", \"Height\"])\n",
        "  centroids = get_random_centroids(X, k = 4)\n",
        "  clustered, cent = k_means_fit(X,centroids, n= 4)\n",
        "  print(clustered)\n",
        "  print(cent)\n",
        "  plot()\n",
        "  plt.show()\n",
        "  \n",
        "  # plt.imshow(X_train[n], cmap = plt.cm.binary) #Graficar imagenes\n",
        "  # plt.xlabel(class_names[y_train[n]])"
      ],
      "execution_count": null,
      "outputs": [
        {
          "output_type": "stream",
          "name": "stderr",
          "text": [
            "/usr/local/lib/python3.7/dist-packages/ipykernel_launcher.py:17: RuntimeWarning: overflow encountered in ubyte_scalars\n",
            "/usr/local/lib/python3.7/dist-packages/ipykernel_launcher.py:18: RuntimeWarning: overflow encountered in ubyte_scalars\n"
          ]
        },
        {
          "output_type": "stream",
          "name": "stdout",
          "text": [
            "-122.12640858533419\n",
            "-30.236390102799003\n",
            "-13.988748540623392\n",
            "0.0\n",
            "     Weight  Height          1           2           3           4  Cluster\n",
            "0         0       0   3.398555  109.501689  192.231513  259.255756        1\n",
            "1         0       1   2.945499  108.504637  192.164246  258.555236        1\n",
            "2         1       1   2.022636  108.432140  191.166351  257.841587        1\n",
            "3         2       0   2.092932  109.367112  190.236450  257.834238        1\n",
            "4         0       0   3.398555  109.501689  192.231513  259.255756        1\n",
            "..      ...     ...        ...         ...         ...         ...      ...\n",
            "387      44       2  41.207595  112.950841  148.203214  228.400778        1\n",
            "388       0       1   2.945499  108.504637  192.164246  258.555236        1\n",
            "389       0       0   3.398555  109.501689  192.231513  259.255756        1\n",
            "390       0       0   3.398555  109.501689  192.231513  259.255756        1\n",
            "391       0       0   3.398555  109.501689  192.231513  259.255756        1\n",
            "\n",
            "[392 rows x 7 columns]\n",
            "             Weight      Height\n",
            "Cluster                        \n",
            "1          2.792453    1.937107\n",
            "2          8.363636  109.181818\n",
            "3        191.761905   13.428571\n",
            "4        184.763158  181.868421\n"
          ]
        },
        {
          "output_type": "display_data",
          "data": {
            "image/png": "[encoded data removed]",
            "text/plain": [
              "<Figure size 720x720 with 1 Axes>"
            ]
          },
          "metadata": {
            "needs_background": "light"
          }
        },
        {
          "output_type": "stream",
          "name": "stderr",
          "text": [
            "/usr/local/lib/python3.7/dist-packages/ipykernel_launcher.py:17: RuntimeWarning: overflow encountered in ubyte_scalars\n",
            "/usr/local/lib/python3.7/dist-packages/ipykernel_launcher.py:18: RuntimeWarning: overflow encountered in ubyte_scalars\n"
          ]
        },
        {
          "output_type": "stream",
          "name": "stdout",
          "text": [
            "4.684663202620742\n",
            "39.69828247659561\n",
            "36.739124229572106\n",
            "32.5542466667942\n",
            "34.17172217919679\n",
            "38.96864848643236\n",
            "14.038779956426978\n",
            "-0.3524841220386765\n",
            "0.15937761047801047\n",
            "-2.773333333333312\n",
            "0.0\n",
            "     Weight  Height           1          2           3          4  Cluster\n",
            "0         0       0  290.357725  221.77801  219.675518   4.143179        4\n",
            "1         0       0  290.357725  221.77801  219.675518   4.143179        4\n",
            "2         0       0  290.357725  221.77801  219.675518   4.143179        4\n",
            "3         0       0  290.357725  221.77801  219.675518   4.143179        4\n",
            "4         0       0  290.357725  221.77801  219.675518   4.143179        4\n",
            "..      ...     ...         ...        ...         ...        ...      ...\n",
            "387      33       0  267.100151  209.79263  188.254703  32.112497        4\n",
            "388       0       0  290.357725  221.77801  219.675518   4.143179        4\n",
            "389       0       0  290.357725  221.77801  219.675518   4.143179        4\n",
            "390       0       0  290.357725  221.77801  219.675518   4.143179        4\n",
            "391       0       0  290.357725  221.77801  219.675518   4.143179        4\n",
            "\n",
            "[392 rows x 7 columns]\n",
            "             Weight      Height\n",
            "Cluster                        \n",
            "1        212.941176  197.392157\n",
            "2         94.871795  200.461538\n",
            "3        210.704545   62.136364\n",
            "4          1.135659    3.984496\n"
          ]
        },
        {
          "output_type": "display_data",
          "data": {
            "image/png": "[encoded data removed]",
            "text/plain": [
              "<Figure size 432x288 with 1 Axes>"
            ]
          },
          "metadata": {
            "needs_background": "light"
          }
        },
        {
          "output_type": "stream",
          "name": "stderr",
          "text": [
            "/usr/local/lib/python3.7/dist-packages/ipykernel_launcher.py:17: RuntimeWarning: overflow encountered in ubyte_scalars\n",
            "/usr/local/lib/python3.7/dist-packages/ipykernel_launcher.py:18: RuntimeWarning: overflow encountered in ubyte_scalars\n"
          ]
        },
        {
          "output_type": "stream",
          "name": "stdout",
          "text": [
            "65.38149363994276\n",
            "70.31739631072557\n",
            "51.085177028337625\n",
            "44.8296751616064\n",
            "42.015690921038974\n",
            "38.24590218342135\n",
            "29.29578067479521\n",
            "30.51138238028047\n",
            "16.029889982016286\n",
            "2.615199966935958\n",
            "0.0\n",
            "     Weight  Height           1           2           3         4  Cluster\n",
            "0         0       0  282.888427  171.029076  111.226998  2.261878        4\n",
            "1         0       0  282.888427  171.029076  111.226998  2.261878        4\n",
            "2         0       0  282.888427  171.029076  111.226998  2.261878        4\n",
            "3         0       0  282.888427  171.029076  111.226998  2.261878        4\n",
            "4         0       0  282.888427  171.029076  111.226998  2.261878        4\n",
            "..      ...     ...         ...         ...         ...       ...      ...\n",
            "387       0       0  282.888427  171.029076  111.226998  2.261878        4\n",
            "388       0       0  282.888427  171.029076  111.226998  2.261878        4\n",
            "389       0       0  282.888427  171.029076  111.226998  2.261878        4\n",
            "390       0       0  282.888427  171.029076  111.226998  2.261878        4\n",
            "391       0       0  282.888427  171.029076  111.226998  2.261878        4\n",
            "\n",
            "[392 rows x 7 columns]\n",
            "             Weight     Height\n",
            "Cluster                       \n",
            "1        202.756757  197.27027\n",
            "2         79.650000  151.35000\n",
            "3        103.650000   40.35000\n",
            "4          1.352518    1.81295\n"
          ]
        },
        {
          "output_type": "display_data",
          "data": {
            "image/png": "[encoded data removed]",
            "text/plain": [
              "<Figure size 432x288 with 1 Axes>"
            ]
          },
          "metadata": {
            "needs_background": "light"
          }
        },
        {
          "output_type": "stream",
          "name": "stderr",
          "text": [
            "/usr/local/lib/python3.7/dist-packages/ipykernel_launcher.py:17: RuntimeWarning: overflow encountered in ubyte_scalars\n",
            "/usr/local/lib/python3.7/dist-packages/ipykernel_launcher.py:18: RuntimeWarning: overflow encountered in ubyte_scalars\n"
          ]
        },
        {
          "output_type": "stream",
          "name": "stdout",
          "text": [
            "72.27182281946\n",
            "67.11580630104547\n",
            "87.34055801399744\n",
            "71.63014275885791\n",
            "35.95121522540309\n",
            "27.558576488610615\n",
            "18.91385192234331\n",
            "35.30737201551776\n",
            "27.207904233613867\n",
            "5.298840974736732\n",
            "0.0\n",
            "     Weight  Height           1          2           3         4  Cluster\n",
            "0         0       0  271.801324  191.32092  113.903349  2.470572        4\n",
            "1         0       0  271.801324  191.32092  113.903349  2.470572        4\n",
            "2         0       0  271.801324  191.32092  113.903349  2.470572        4\n",
            "3         0       0  271.801324  191.32092  113.903349  2.470572        4\n",
            "4         0       0  271.801324  191.32092  113.903349  2.470572        4\n",
            "..      ...     ...         ...        ...         ...       ...      ...\n",
            "387       0       0  271.801324  191.32092  113.903349  2.470572        4\n",
            "388       0       0  271.801324  191.32092  113.903349  2.470572        4\n",
            "389       0       0  271.801324  191.32092  113.903349  2.470572        4\n",
            "390       0       0  271.801324  191.32092  113.903349  2.470572        4\n",
            "391       0       0  271.801324  191.32092  113.903349  2.470572        4\n",
            "\n",
            "[392 rows x 7 columns]\n",
            "             Weight      Height\n",
            "Cluster                        \n",
            "1        216.931034  163.758621\n",
            "2         26.333333  189.500000\n",
            "3         90.891892   68.648649\n",
            "4          1.948052    1.519481\n"
          ]
        },
        {
          "output_type": "display_data",
          "data": {
            "image/png": "[encoded data removed]",
            "text/plain": [
              "<Figure size 432x288 with 1 Axes>"
            ]
          },
          "metadata": {
            "needs_background": "light"
          }
        },
        {
          "output_type": "stream",
          "name": "stderr",
          "text": [
            "/usr/local/lib/python3.7/dist-packages/ipykernel_launcher.py:17: RuntimeWarning: overflow encountered in ubyte_scalars\n",
            "/usr/local/lib/python3.7/dist-packages/ipykernel_launcher.py:18: RuntimeWarning: overflow encountered in ubyte_scalars\n"
          ]
        },
        {
          "output_type": "stream",
          "name": "stdout",
          "text": [
            "60.488387228439365\n",
            "65.0262853339094\n",
            "41.61095633131973\n",
            "11.634932518471189\n",
            "15.186677152339911\n",
            "18.539722658474673\n",
            "2.12791419168137\n",
            "0.0\n",
            "     Weight  Height           1           2           3           4  Cluster\n",
            "0         0       0  194.996241  177.484926    4.113359  263.211620        3\n",
            "1         0       0  194.996241  177.484926    4.113359  263.211620        3\n",
            "2         0       0  194.996241  177.484926    4.113359  263.211620        3\n",
            "3         0       0  194.996241  177.484926    4.113359  263.211620        3\n",
            "4        92     162   32.158396  121.233975  182.485726   98.084721        1\n",
            "..      ...     ...         ...         ...         ...         ...      ...\n",
            "387       0       0  194.996241  177.484926    4.113359  263.211620        3\n",
            "388       0     135   82.835238  179.188166  132.467483  193.903177        1\n",
            "389     137      48  151.730653   32.934430  141.291820  145.822778        2\n",
            "390       0       0  194.996241  177.484926    4.113359  263.211620        3\n",
            "391       0       0  194.996241  177.484926    4.113359  263.211620        3\n",
            "\n",
            "[392 rows x 7 columns]\n",
            "             Weight      Height\n",
            "Cluster                        \n",
            "1         67.571429  182.914286\n",
            "2        165.055556   65.250000\n",
            "3          3.210526    2.571429\n",
            "4        187.388298  184.840426\n"
          ]
        },
        {
          "output_type": "display_data",
          "data": {
            "image/png": "[encoded data removed]",
            "text/plain": [
              "<Figure size 432x288 with 1 Axes>"
            ]
          },
          "metadata": {
            "needs_background": "light"
          }
        },
        {
          "output_type": "stream",
          "name": "stderr",
          "text": [
            "/usr/local/lib/python3.7/dist-packages/ipykernel_launcher.py:17: RuntimeWarning: overflow encountered in ubyte_scalars\n",
            "/usr/local/lib/python3.7/dist-packages/ipykernel_launcher.py:18: RuntimeWarning: overflow encountered in ubyte_scalars\n"
          ]
        },
        {
          "output_type": "stream",
          "name": "stdout",
          "text": [
            "-94.98950543358598\n",
            "-13.640488983992832\n",
            "-2.1929207302794325\n",
            "1.1181653491435952\n",
            "0.6071906035141694\n",
            "0.6099650816837254\n",
            "0.0\n",
            "     Weight  Height           1          2           3           4  Cluster\n",
            "0         0       0  258.176785  23.492196  297.997102  204.715604        2\n",
            "1         0       0  258.176785  23.492196  297.997102  204.715604        2\n",
            "2         1       1  256.762572  22.238884  296.583093  203.557461        2\n",
            "3         0       0  258.176785  23.492196  297.997102  204.715604        2\n",
            "4         0      48  226.762827  26.713536  266.877189  201.913015        2\n",
            "..      ...     ...         ...        ...         ...         ...      ...\n",
            "387      71      72  157.061335  80.751875  196.922243  135.455485        2\n",
            "388      92       0  203.843017  87.549371  240.505279  115.271746        2\n",
            "389      64     103  142.743659  98.590611  182.803125  153.055107        2\n",
            "390     100      36  168.260743  93.662757  205.753569  101.548469        2\n",
            "391       0       0  258.176785  23.492196  297.997102  204.715604        2\n",
            "\n",
            "[392 rows x 7 columns]\n",
            "             Weight      Height\n",
            "Cluster                        \n",
            "1        182.430851  182.686170\n",
            "2          7.342342   22.315315\n",
            "3        214.258065  207.112903\n",
            "4        201.548387   35.870968\n"
          ]
        },
        {
          "output_type": "display_data",
          "data": {
            "image/png": "[encoded data removed]",
            "text/plain": [
              "<Figure size 432x288 with 1 Axes>"
            ]
          },
          "metadata": {
            "needs_background": "light"
          }
        },
        {
          "output_type": "stream",
          "name": "stderr",
          "text": [
            "/usr/local/lib/python3.7/dist-packages/ipykernel_launcher.py:17: RuntimeWarning: overflow encountered in ubyte_scalars\n",
            "/usr/local/lib/python3.7/dist-packages/ipykernel_launcher.py:18: RuntimeWarning: overflow encountered in ubyte_scalars\n"
          ]
        },
        {
          "output_type": "stream",
          "name": "stdout",
          "text": [
            "29.893429577013784\n",
            "18.615869737631144\n",
            "20.177947598975525\n",
            "19.196376710450124\n",
            "22.800875861872775\n",
            "15.855902810805889\n",
            "17.51855987858118\n",
            "20.123953632452256\n",
            "2.7763347809807883\n",
            "6.384753815919072\n",
            "5.4032001816813775\n",
            "4.234947092796997\n",
            "0.7885371023566474\n",
            "3.4832033669671714\n",
            "0.7800442211812819\n",
            "0.26262956899510215\n",
            "0.5203485500625091\n",
            "0.5204473615370437\n",
            "0.2670536090625184\n",
            "0.0\n",
            "     Weight  Height          1           2          3           4  Cluster\n",
            "0         0       0  36.167268  127.555334   4.498804  138.209343        3\n",
            "1         0       0  36.167268  127.555334   4.498804  138.209343        3\n",
            "2         0       0  36.167268  127.555334   4.498804  138.209343        3\n",
            "3         0       0  36.167268  127.555334   4.498804  138.209343        3\n",
            "4         0       0  36.167268  127.555334   4.498804  138.209343        3\n",
            "..      ...     ...        ...         ...        ...         ...      ...\n",
            "387       0       0  36.167268  127.555334   4.498804  138.209343        3\n",
            "388       0      58  42.740578   73.007625  54.656828  132.203716        1\n",
            "389      20      12  14.150714  112.026172  19.112202  115.584698        1\n",
            "390       0       0  36.167268  127.555334   4.498804  138.209343        3\n",
            "391       0       0  36.167268  127.555334   4.498804  138.209343        3\n",
            "\n",
            "[392 rows x 7 columns]\n",
            "             Weight      Height\n",
            "Cluster                        \n",
            "1         26.578571   24.528571\n",
            "2         32.625000  123.312500\n",
            "3          2.921296    3.421296\n",
            "4        131.350000   43.000000\n"
          ]
        },
        {
          "output_type": "display_data",
          "data": {
            "image/png": "[encoded data removed]",
            "text/plain": [
              "<Figure size 432x288 with 1 Axes>"
            ]
          },
          "metadata": {
            "needs_background": "light"
          }
        },
        {
          "output_type": "stream",
          "name": "stderr",
          "text": [
            "/usr/local/lib/python3.7/dist-packages/ipykernel_launcher.py:17: RuntimeWarning: overflow encountered in ubyte_scalars\n",
            "/usr/local/lib/python3.7/dist-packages/ipykernel_launcher.py:18: RuntimeWarning: overflow encountered in ubyte_scalars\n"
          ]
        },
        {
          "output_type": "stream",
          "name": "stdout",
          "text": [
            "45.99661780796518\n",
            "31.959412012303716\n",
            "15.174127702297374\n",
            "11.850937992160736\n",
            "8.023807907386185\n",
            "8.420125151552725\n",
            "-1.66925519468127\n",
            "-0.8200926676058771\n",
            "-1.2021579211981788\n",
            "-1.0778418282078093\n",
            "-1.3738895170408512\n",
            "0.0\n",
            "     Weight  Height           1           2           3           4  Cluster\n",
            "0         0       0  176.659749  106.212877    2.415112  218.035932        3\n",
            "1         0       0  176.659749  106.212877    2.415112  218.035932        3\n",
            "2         0       0  176.659749  106.212877    2.415112  218.035932        3\n",
            "3         0       0  176.659749  106.212877    2.415112  218.035932        3\n",
            "4        32     150  124.773682   85.378072  151.415671  106.193224        2\n",
            "..      ...     ...         ...         ...         ...         ...      ...\n",
            "387      39     131  111.618180   65.493016  134.616907  104.861553        2\n",
            "388      93      17   97.991456   61.747026   92.503969  159.209334        2\n",
            "389       0       0  176.659749  106.212877    2.415112  218.035932        3\n",
            "390       0       0  176.659749  106.212877    2.415112  218.035932        3\n",
            "391       0       0  176.659749  106.212877    2.415112  218.035932        3\n",
            "\n",
            "[392 rows x 7 columns]\n",
            "             Weight      Height\n",
            "Cluster                        \n",
            "1        146.048780   99.390244\n",
            "2         74.340000   75.860000\n",
            "3          1.781818    1.630303\n",
            "4        136.250000  170.222222\n"
          ]
        },
        {
          "output_type": "display_data",
          "data": {
            "image/png": "[encoded data removed]",
            "text/plain": [
              "<Figure size 432x288 with 1 Axes>"
            ]
          },
          "metadata": {
            "needs_background": "light"
          }
        },
        {
          "output_type": "stream",
          "name": "stderr",
          "text": [
            "/usr/local/lib/python3.7/dist-packages/ipykernel_launcher.py:17: RuntimeWarning: overflow encountered in ubyte_scalars\n",
            "/usr/local/lib/python3.7/dist-packages/ipykernel_launcher.py:18: RuntimeWarning: overflow encountered in ubyte_scalars\n"
          ]
        },
        {
          "output_type": "stream",
          "name": "stdout",
          "text": [
            "48.13063472671764\n",
            "26.794679188583647\n",
            "22.22830820518878\n",
            "20.9874480373763\n",
            "4.649242913948807\n",
            "3.6658122579175476\n",
            "0.0\n",
            "     Weight  Height        1           2           3           4  Cluster\n",
            "0         0       0  2.61336  168.585198  279.968501  226.399459        1\n",
            "1         0       0  2.61336  168.585198  279.968501  226.399459        1\n",
            "2         0       0  2.61336  168.585198  279.968501  226.399459        1\n",
            "3         0       0  2.61336  168.585198  279.968501  226.399459        1\n",
            "4         0       0  2.61336  168.585198  279.968501  226.399459        1\n",
            "..      ...     ...      ...         ...         ...         ...      ...\n",
            "387       0       0  2.61336  168.585198  279.968501  226.399459        1\n",
            "388       0       0  2.61336  168.585198  279.968501  226.399459        1\n",
            "389       0       0  2.61336  168.585198  279.968501  226.399459        1\n",
            "390       0       0  2.61336  168.585198  279.968501  226.399459        1\n",
            "391       0       0  2.61336  168.585198  279.968501  226.399459        1\n",
            "\n",
            "[392 rows x 7 columns]\n",
            "             Weight      Height\n",
            "Cluster                        \n",
            "1          2.604651    0.213178\n",
            "2         29.722222  165.944444\n",
            "3        197.513158  198.421053\n",
            "4        224.409091   29.954545\n"
          ]
        },
        {
          "output_type": "display_data",
          "data": {
            "image/png": "[encoded data removed]",
            "text/plain": [
              "<Figure size 432x288 with 1 Axes>"
            ]
          },
          "metadata": {
            "needs_background": "light"
          }
        },
        {
          "output_type": "stream",
          "name": "stderr",
          "text": [
            "/usr/local/lib/python3.7/dist-packages/ipykernel_launcher.py:17: RuntimeWarning: overflow encountered in ubyte_scalars\n",
            "/usr/local/lib/python3.7/dist-packages/ipykernel_launcher.py:18: RuntimeWarning: overflow encountered in ubyte_scalars\n"
          ]
        },
        {
          "output_type": "stream",
          "name": "stdout",
          "text": [
            "90.65960179154689\n",
            "69.96072490794894\n",
            "54.31768002026377\n",
            "78.92953492789167\n",
            "36.80564905255031\n",
            "11.707438232289375\n",
            "7.87001499407852\n",
            "0.0\n",
            "     Weight  Height           1           2           3           4  Cluster\n",
            "0         0       0  204.818122  307.105482    3.044297  210.503691        3\n",
            "1         0       0  204.818122  307.105482    3.044297  210.503691        3\n",
            "2         0       0  204.818122  307.105482    3.044297  210.503691        3\n",
            "3         0       0  204.818122  307.105482    3.044297  210.503691        3\n",
            "4         0       1  203.829872  306.395068    2.845504  210.348054        3\n",
            "..      ...     ...         ...         ...         ...         ...      ...\n",
            "387       0       0  204.818122  307.105482    3.044297  210.503691        3\n",
            "388       0     151   60.163891  226.168042  149.941551  238.896011        1\n",
            "389     218      82  222.226153  136.436234  229.867739   49.793168        4\n",
            "390       0       0  204.818122  307.105482    3.044297  210.503691        3\n",
            "391       0       0  204.818122  307.105482    3.044297  210.503691        3\n",
            "\n",
            "[392 rows x 7 columns]\n",
            "             Weight      Height\n",
            "Cluster                        \n",
            "1         31.230769  202.423077\n",
            "2        215.885496  218.419847\n",
            "3          2.844221    1.085427\n",
            "4        207.861111   33.250000\n"
          ]
        },
        {
          "output_type": "display_data",
          "data": {
            "image/png": "[encoded data removed]",
            "text/plain": [
              "<Figure size 432x288 with 1 Axes>"
            ]
          },
          "metadata": {
            "needs_background": "light"
          }
        }
      ]
    },
    {
      "cell_type": "markdown",
      "metadata": {
        "id": "00ZZFlxadKZk"
      },
      "source": [
        "##Punto 4\n",
        "En este numeral se encuentra el mismo proceso del punto anterior pero con el método de K-Means de scikit-learn usando solo la métrica de\n",
        "distancia euclidiana."
      ]
    },
    {
      "cell_type": "markdown",
      "metadata": {
        "id": "zuZ8BHhTeMZy"
      },
      "source": [
        "Se importa la librería adicional necesaria para la realización del punto."
      ]
    },
    {
      "cell_type": "code",
      "metadata": {
        "id": "HL1gyCuUeSjA"
      },
      "source": [
        "import cv2"
      ],
      "execution_count": null,
      "outputs": []
    },
    {
      "cell_type": "code",
      "metadata": {
        "colab": {
          "base_uri": "https://localhost:8080/"
        },
        "id": "D7QmIxoUeWaC",
        "outputId": "fe5270ea-b98d-43b3-d3ed-cedb9a341181"
      },
      "source": [
        "n = randint(0, X_train.shape[0]-1)\n",
        "pixel_values = X_train[n].reshape(-1,2)\n",
        "print(pixel_values.shape)"
      ],
      "execution_count": null,
      "outputs": [
        {
          "output_type": "stream",
          "name": "stdout",
          "text": [
            "(392, 2)\n"
          ]
        }
      ]
    },
    {
      "cell_type": "markdown",
      "metadata": {
        "id": "oV2_JXJSe832"
      },
      "source": [
        "En el siguiente bloque de código se encuentra la implementación del kmeans con cv2"
      ]
    },
    {
      "cell_type": "code",
      "metadata": {
        "id": "zlggesnGecKX"
      },
      "source": [
        "pixel_values = np.float32(pixel_values)\n",
        "criteria = (cv2.TERM_CRITERIA_EPS + cv2.TERM_CRITERIA_MAX_ITER, 1000, 0.2)\n",
        "k = 10 \n",
        "_, labels, (centers) = cv2.kmeans(pixel_values, k, None, criteria, 10, cv2.KMEANS_RANDOM_CENTERS)"
      ],
      "execution_count": null,
      "outputs": []
    },
    {
      "cell_type": "code",
      "metadata": {
        "colab": {
          "base_uri": "https://localhost:8080/"
        },
        "id": "KtTH8J5LehUI",
        "outputId": "886d2cb6-4a0a-46d6-bea8-cf02b7ac479e"
      },
      "source": [
        "centers = np.uint8(centers)\n",
        "print(centers)\n",
        "print(labels.shape)\n",
        "labels = labels.flatten()\n",
        "print(labels.shape)\n",
        "segmented_image = centers[labels]"
      ],
      "execution_count": null,
      "outputs": [
        {
          "output_type": "stream",
          "name": "stdout",
          "text": [
            "[[ 71  18]\n",
            " [  0   0]\n",
            " [150  29]\n",
            " [ 37  98]\n",
            " [ 89  60]\n",
            " [ 57  57]\n",
            " [102 255]\n",
            " [  6  55]\n",
            " [118 176]\n",
            " [ 43  30]]\n",
            "(392, 1)\n",
            "(392,)\n"
          ]
        }
      ]
    },
    {
      "cell_type": "markdown",
      "metadata": {
        "id": "pffqCrDdgVJh"
      },
      "source": [
        "Se segmentan los componentes de la imagen y se reforman al tamaño del componente original."
      ]
    },
    {
      "cell_type": "code",
      "metadata": {
        "colab": {
          "base_uri": "https://localhost:8080/",
          "height": 541
        },
        "id": "jTHgQfbiemEk",
        "outputId": "70c3dc15-b2b0-4b98-ff25-759104065912"
      },
      "source": [
        "segmented_image = segmented_image.reshape(X_train[n].shape)\n",
        "print(segmented_image.shape)\n",
        "plt.figure(figsize = (16,9))\n",
        "plt.imshow(segmented_image)\n",
        "plt.xticks([]);\n",
        "plt.yticks([]);"
      ],
      "execution_count": null,
      "outputs": [
        {
          "output_type": "stream",
          "name": "stdout",
          "text": [
            "(28, 28)\n"
          ]
        },
        {
          "output_type": "display_data",
          "data": {
            "image/png": "[encoded data removed]",
            "text/plain": [
              "<Figure size 1152x648 with 1 Axes>"
            ]
          },
          "metadata": {}
        }
      ]
    },
    {
      "cell_type": "markdown",
      "metadata": {
        "id": "9lcZ1i7igf62"
      },
      "source": [
        "Se cambian los valores de la imagen para así cambiar sus colores"
      ]
    },
    {
      "cell_type": "code",
      "metadata": {
        "colab": {
          "base_uri": "https://localhost:8080/",
          "height": 524
        },
        "id": "P6TgCCFNerby",
        "outputId": "b07b9c6c-03df-4ec6-d536-1c56e6b0ec4e"
      },
      "source": [
        "#Escoger cada una de las capas y pintarlas de negro.\n",
        "\n",
        "#Copia de la imagen para que no apunte a la misma dirección de memoria.\n",
        "masked_image = np.copy(X_train[n])\n",
        "masked_image = masked_image.reshape(-1,2)\n",
        "cluster = 1\n",
        "masked_image[labels == cluster] = [1000,1000]\n",
        "masked_image = masked_image.reshape(X_train[n].shape)\n",
        "plt.figure(figsize = (16,9))\n",
        "plt.imshow(masked_image)\n",
        "plt.xticks([]);\n",
        "plt.yticks([]);"
      ],
      "execution_count": null,
      "outputs": [
        {
          "output_type": "display_data",
          "data": {
            "image/png": "[encoded data removed]",
            "text/plain": [
              "<Figure size 1152x648 with 1 Axes>"
            ]
          },
          "metadata": {}
        }
      ]
    }
  ]
}